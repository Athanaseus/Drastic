{
 "cells": [
  {
   "cell_type": "code",
   "execution_count": null,
   "metadata": {
    "extensions": {
     "jupyter_dashboards": {
      "version": 1,
      "views": {
       "grid_default": {},
       "report_default": {}
      }
     }
    }
   },
   "outputs": [],
   "source": [
    "!mkdir msdir\n",
    "!mkdir input\n",
    "!mkdir ouput"
   ]
  },
  {
   "cell_type": "code",
   "execution_count": 1,
   "metadata": {
    "extensions": {
     "jupyter_dashboards": {
      "version": 1,
      "views": {
       "grid_default": {},
       "report_default": {}
      }
     }
    }
   },
   "outputs": [
    {
     "name": "stdout",
     "output_type": "stream",
     "text": [
      "2019-04-05 17:09:47,608 - STIMELA - INFO - ---------------------------------\n",
      "2019-04-05 17:09:47,609 - STIMELA - INFO - Stimela version 1.0.1\n",
      "2019-04-05 17:09:47,609 - STIMELA - INFO - Sphesihle Makhathini <sphemakh@gmail.com>\n",
      "2019-04-05 17:09:47,609 - STIMELA - INFO - Running: Make Pipeline\n",
      "2019-04-05 17:09:47,610 - STIMELA - INFO - ---------------------------------\n"
     ]
    }
   ],
   "source": [
    "import json\n",
    "import stimela\n",
    "import drastic\n",
    "import pkg_resources\n",
    "from ipywidgets import widgets, interact\n",
    "from IPython.display import Javascript"
   ]
  },
  {
   "cell_type": "code",
   "execution_count": 2,
   "metadata": {
    "extensions": {
     "jupyter_dashboards": {
      "version": 1,
      "views": {
       "grid_default": {},
       "report_default": {}
      }
     }
    }
   },
   "outputs": [
    {
     "data": {
      "application/vnd.jupyter.widget-view+json": {
       "model_id": "a6708130adba413898ef05a994370b5a",
       "version_major": 2,
       "version_minor": 0
      },
      "text/plain": [
       "Button(description=u'Configure', style=ButtonStyle())"
      ]
     },
     "metadata": {},
     "output_type": "display_data"
    },
    {
     "data": {
      "text/html": [
       "<script>\n",
       "code_show=true; \n",
       "function code_toggle() {\n",
       " if (code_show){\n",
       " $('div.input').hide();\n",
       " } else {\n",
       " $('div.input').show();\n",
       " }\n",
       " code_show = !code_show\n",
       "} \n",
       "$( document ).ready(code_toggle);\n",
       "</script>\n",
       "<form action=\"javascript:code_toggle()\"><input type=\"submit\"\n",
       "value=\"Click here to toggle on/off the raw code.\"></form>"
      ],
      "text/plain": [
       "<IPython.core.display.HTML object>"
      ]
     },
     "execution_count": 2,
     "metadata": {},
     "output_type": "execute_result"
    },
    {
     "data": {
      "application/javascript": [
       "IPython.notebook.execute_cell_range(IPython.notebook.get_selected_index()+1,IPython.notebook.get_selected_index()+4)"
      ],
      "text/plain": [
       "<IPython.core.display.Javascript object>"
      ]
     },
     "metadata": {},
     "output_type": "display_data"
    }
   ],
   "source": [
    "def run_all(ev):\n",
    "    # Runn all cells\n",
    "    #display(Javascript('IPython.notebook.execute_cells_below()'))\n",
    "    display(Javascript('IPython.notebook.execute_cell_range(IPython.notebook.get_selected_index()+1,'\n",
    "                       'IPython.notebook.get_selected_index()+4)'))\n",
    "\n",
    "button = widgets.Button(description=\"Configure\")\n",
    "button.on_click(run_all)\n",
    "display(button)\n",
    "\n",
    "from IPython.display import HTML\n",
    "\n",
    "HTML('''<script>\n",
    "code_show=true; \n",
    "function code_toggle() {\n",
    " if (code_show){\n",
    " $('div.input').hide();\n",
    " } else {\n",
    " $('div.input').show();\n",
    " }\n",
    " code_show = !code_show\n",
    "} \n",
    "$( document ).ready(code_toggle);\n",
    "</script>\n",
    "<form action=\"javascript:code_toggle()\"><input type=\"submit\"\n",
    "value=\"Click here to toggle on/off the raw code.\"></form>''')"
   ]
  },
  {
   "cell_type": "code",
   "execution_count": 3,
   "metadata": {
    "extensions": {
     "jupyter_dashboards": {
      "version": 1,
      "views": {
       "grid_default": {},
       "report_default": {}
      }
     }
    }
   },
   "outputs": [],
   "source": [
    "DATA = dict()\n",
    "cab_names = ['simms', 'simulator', 'calibrator', 'wsclean', 'ddfacet', 'fitstool', 'pybdsm']#stimela.CAB\n",
    "def setup():\n",
    "    for cab_name in cab_names:\n",
    "        PARAM_FILE_PATH = pkg_resources.resource_filename('stimela', 'cargo/cab/{}'.format(cab_name))\n",
    "        PARAM_FILE = '{}/parameters.json'.format(PARAM_FILE_PATH)\n",
    "\n",
    "        with open(PARAM_FILE) as par:\n",
    "            DATA[cab_name] = json.load(par)\n",
    "setup()"
   ]
  },
  {
   "cell_type": "markdown",
   "metadata": {
    "extensions": {
     "jupyter_dashboards": {
      "version": 1,
      "views": {
       "grid_default": {},
       "report_default": {}
      }
     }
    }
   },
   "source": [
    "Select cab to use:"
   ]
  },
  {
   "cell_type": "code",
   "execution_count": 4,
   "metadata": {
    "extensions": {
     "jupyter_dashboards": {
      "version": 1,
      "views": {
       "grid_default": {},
       "report_default": {}
      }
     }
    }
   },
   "outputs": [
    {
     "data": {
      "application/vnd.jupyter.widget-view+json": {
       "model_id": "cf86e8393f4d4d6b9b64b705638e090c",
       "version_major": 2,
       "version_minor": 0
      },
      "text/plain": [
       "RHJvcGRvd24oZGVzY3JpcHRpb249dSdUYXNrOicsIG9wdGlvbnM9KCdzaW1tcycsICdzaW11bGF0b3InLCAnY2FsaWJyYXRvcicsICd3c2NsZWFuJywgJ2RkZmFjZXQnLCAnZml0c3Rvb2wnLCDigKY=\n"
      ]
     },
     "metadata": {},
     "output_type": "display_data"
    }
   ],
   "source": [
    "cab = widgets.Dropdown(\n",
    "    options=cab_names,\n",
    "    description='Task:',\n",
    "    disabled=False)\n",
    "display(cab)"
   ]
  },
  {
   "cell_type": "code",
   "execution_count": 12,
   "metadata": {
    "extensions": {
     "jupyter_dashboards": {
      "version": 1,
      "views": {
       "grid_default": {},
       "report_default": {}
      }
     }
    },
    "scrolled": false
   },
   "outputs": [
    {
     "name": "stdout",
     "output_type": "stream",
     "text": [
      "Source finding in radio images\n",
      "Name: image\n",
      "Info: Input image file name\n",
      "Type: file\n",
      "Default: None\n"
     ]
    },
    {
     "data": {
      "application/vnd.jupyter.widget-view+json": {
       "model_id": "30ea6cb14a6c4fc0a310640b7da28ebb",
       "version_major": 2,
       "version_minor": 0
      },
      "text/plain": [
       "Text(value=u'None')"
      ]
     },
     "metadata": {},
     "output_type": "display_data"
    },
    {
     "name": "stdout",
     "output_type": "stream",
     "text": [
      "\n",
      "Name: adaptive_rms_box\n",
      "Info: Use adaptive rms_box when determining rms and mean maps\n",
      "Type: bool\n",
      "Default: False\n"
     ]
    },
    {
     "data": {
      "application/vnd.jupyter.widget-view+json": {
       "model_id": "cec915c039e946099d8fa71d6eb8b60c",
       "version_major": 2,
       "version_minor": 0
      },
      "text/plain": [
       "Dropdown(index=1, options=(True, False), value=False)"
      ]
     },
     "metadata": {},
     "output_type": "display_data"
    },
    {
     "name": "stdout",
     "output_type": "stream",
     "text": [
      "\n",
      "Name: atrous_do\n",
      "Info: Decompose Gaussian residual image into multiple scales\n",
      "Type: bool\n",
      "Default: False\n"
     ]
    },
    {
     "data": {
      "application/vnd.jupyter.widget-view+json": {
       "model_id": "4ce06c8111a44fd19fd069d52a866892",
       "version_major": 2,
       "version_minor": 0
      },
      "text/plain": [
       "Dropdown(index=1, options=(True, False), value=False)"
      ]
     },
     "metadata": {},
     "output_type": "display_data"
    },
    {
     "name": "stdout",
     "output_type": "stream",
     "text": [
      "\n",
      "Name: atrous_bdsm_do\n",
      "Info: Perform source extraction on each wavelet scale\n",
      "Type: bool\n",
      "Default: False\n"
     ]
    },
    {
     "data": {
      "application/vnd.jupyter.widget-view+json": {
       "model_id": "c08c5c7a38924f239b14c2d45a87ee24",
       "version_major": 2,
       "version_minor": 0
      },
      "text/plain": [
       "Dropdown(index=1, options=(True, False), value=False)"
      ]
     },
     "metadata": {},
     "output_type": "display_data"
    },
    {
     "name": "stdout",
     "output_type": "stream",
     "text": [
      "\n",
      "Name: atrous_jmax\n",
      "Info: Max allowed wavelength order, 0 => calculate inside program\n",
      "Type: int\n",
      "Default: 0\n"
     ]
    },
    {
     "data": {
      "application/vnd.jupyter.widget-view+json": {
       "model_id": "70f37931e05d41e4a9c154a12be0b5cb",
       "version_major": 2,
       "version_minor": 0
      },
      "text/plain": [
       "Text(value=u'0')"
      ]
     },
     "metadata": {},
     "output_type": "display_data"
    },
    {
     "name": "stdout",
     "output_type": "stream",
     "text": [
      "\n",
      "Name: atrous_lpf\n",
      "Info: Low pass filter, either 'b3' or 'tr', for B3 spline or Triangle\n",
      "Type: str\n",
      "Default: b3\n"
     ]
    },
    {
     "data": {
      "application/vnd.jupyter.widget-view+json": {
       "model_id": "a1eb53e3967b41798d8ab9d2d28111c4",
       "version_major": 2,
       "version_minor": 0
      },
      "text/plain": [
       "Text(value=u'b3')"
      ]
     },
     "metadata": {},
     "output_type": "display_data"
    },
    {
     "name": "stdout",
     "output_type": "stream",
     "text": [
      "\n",
      "Name: atrous_orig_isl\n",
      "Info: Restrict wavelet Gaussians to islands found in original image\n",
      "Type: bool\n",
      "Default: False\n"
     ]
    },
    {
     "data": {
      "application/vnd.jupyter.widget-view+json": {
       "model_id": "a41ae2b7a663479c933cf59ce5535668",
       "version_major": 2,
       "version_minor": 0
      },
      "text/plain": [
       "Dropdown(index=1, options=(True, False), value=False)"
      ]
     },
     "metadata": {},
     "output_type": "display_data"
    },
    {
     "name": "stdout",
     "output_type": "stream",
     "text": [
      "\n",
      "Name: atrous_sum\n",
      "Info: Fit to the sum of remaining wavelet scales\n",
      "Type: bool\n",
      "Default: True\n"
     ]
    },
    {
     "data": {
      "application/vnd.jupyter.widget-view+json": {
       "model_id": "7653dbe200ce4eb0b762b6f7c2b14144",
       "version_major": 2,
       "version_minor": 0
      },
      "text/plain": [
       "Dropdown(options=(True, False), value=True)"
      ]
     },
     "metadata": {},
     "output_type": "display_data"
    },
    {
     "name": "stdout",
     "output_type": "stream",
     "text": [
      "\n",
      "Name: use_scipy_fft\n",
      "Info: Use fast SciPy FFT for convolution\n",
      "Type: bool\n",
      "Default: True\n"
     ]
    },
    {
     "data": {
      "application/vnd.jupyter.widget-view+json": {
       "model_id": "5153b379e15a44aaa9863811faf4f9b6",
       "version_major": 2,
       "version_minor": 0
      },
      "text/plain": [
       "Dropdown(options=(True, False), value=True)"
      ]
     },
     "metadata": {},
     "output_type": "display_data"
    },
    {
     "name": "stdout",
     "output_type": "stream",
     "text": [
      "\n",
      "Name: beam\n",
      "Info: FWHM of restoring beam. Specify as (maj, min, pos ang E of N) in degrees. E.g., beam = (0.06, 0.02, 13.3). None => get from header\n",
      "Type: list:float\n",
      "Default: None\n"
     ]
    },
    {
     "data": {
      "application/vnd.jupyter.widget-view+json": {
       "model_id": "f89a266b4e6944a8bac0e548d9e3876c",
       "version_major": 2,
       "version_minor": 0
      },
      "text/plain": [
       "Text(value=u'None')"
      ]
     },
     "metadata": {},
     "output_type": "display_data"
    },
    {
     "name": "stdout",
     "output_type": "stream",
     "text": [
      "\n",
      "Name: flagging_opts\n",
      "Info: Show options for Gaussian flagging\n",
      "Type: bool\n",
      "Default: False\n"
     ]
    },
    {
     "data": {
      "application/vnd.jupyter.widget-view+json": {
       "model_id": "082ac7ec6705452baf189399fa756ee3",
       "version_major": 2,
       "version_minor": 0
      },
      "text/plain": [
       "Dropdown(index=1, options=(True, False), value=False)"
      ]
     },
     "metadata": {},
     "output_type": "display_data"
    },
    {
     "name": "stdout",
     "output_type": "stream",
     "text": [
      "\n",
      "Name: frequency\n",
      "Info: Frequency in Hz of input image. E.g., frequency = 74e6. None => get from header.\n",
      "Type: float\n",
      "Default: None\n"
     ]
    },
    {
     "data": {
      "application/vnd.jupyter.widget-view+json": {
       "model_id": "b34ebe6507b54a068f3bfd3bd9a1f98e",
       "version_major": 2,
       "version_minor": 0
      },
      "text/plain": [
       "Text(value=u'None')"
      ]
     },
     "metadata": {},
     "output_type": "display_data"
    },
    {
     "name": "stdout",
     "output_type": "stream",
     "text": [
      "\n",
      "Name: mean_map\n",
      "Info: Background mean map: 'default' => calc whether to use or not, 'zero' => 0, 'const' => clipped mean, 'map' => use 2-D map\n",
      "Type: str\n",
      "Default: default\n"
     ]
    },
    {
     "data": {
      "application/vnd.jupyter.widget-view+json": {
       "model_id": "5376c08a0f2f446eb47f2aedb682799d",
       "version_major": 2,
       "version_minor": 0
      },
      "text/plain": [
       "Text(value=u'default')"
      ]
     },
     "metadata": {},
     "output_type": "display_data"
    },
    {
     "name": "stdout",
     "output_type": "stream",
     "text": [
      "\n",
      "Name: beam_sp_derive\n",
      "Info: If True and beam_spectrum is None, then assume header beam is for median frequency and scales with frequency for channels\n",
      "Type: bool\n",
      "Default: False\n"
     ]
    },
    {
     "data": {
      "application/vnd.jupyter.widget-view+json": {
       "model_id": "e1fa0b5172304128be91421574134b95",
       "version_major": 2,
       "version_minor": 0
      },
      "text/plain": [
       "Dropdown(index=1, options=(True, False), value=False)"
      ]
     },
     "metadata": {},
     "output_type": "display_data"
    },
    {
     "name": "stdout",
     "output_type": "stream",
     "text": [
      "\n",
      "Name: multi_chan_beam\n",
      "Info: Get beams for each channel in FITS header. Eg. BMAJ1, BMAJ1, BPA1; BMAJ2, BMIN2, BPA2\n",
      "Type: bool\n",
      "Default: False\n"
     ]
    },
    {
     "data": {
      "application/vnd.jupyter.widget-view+json": {
       "model_id": "89d37a1bbd07433e98a9e71a424ee444",
       "version_major": 2,
       "version_minor": 0
      },
      "text/plain": [
       "Dropdown(index=1, options=(True, False), value=False)"
      ]
     },
     "metadata": {},
     "output_type": "display_data"
    },
    {
     "name": "stdout",
     "output_type": "stream",
     "text": [
      "\n",
      "Name: beam_spectrum\n",
      "Info: FWHM of synthesized beam per channel. Specify as [(bmaj_ch1, bmin_ch1, bpa_ch1), (bmaj_ch2, bmin_ch2, bpa_ch2), etc.] in degrees. E.g., beam_spectrum = [(0.01, 0.01, 45.0), (0.02,0.01, 34.0)] for two channels. None => all equal to beam\n",
      "Type: list:list\n",
      "Default: None\n"
     ]
    },
    {
     "data": {
      "application/vnd.jupyter.widget-view+json": {
       "model_id": "8cd722dec20249aabd3b4f23618098df",
       "version_major": 2,
       "version_minor": 0
      },
      "text/plain": [
       "Text(value=u'None')"
      ]
     },
     "metadata": {},
     "output_type": "display_data"
    },
    {
     "name": "stdout",
     "output_type": "stream",
     "text": [
      "\n",
      "Name: collapse_av\n",
      "Info: List of channels to average if collapse_mode = 'average', starting from 0. E.g., collapse_av = [0, 1, 5]. [] => all\n",
      "Type: list:int\n",
      "Default: None\n"
     ]
    },
    {
     "data": {
      "application/vnd.jupyter.widget-view+json": {
       "model_id": "fc4d5895efb94b238d124d0af3843b9c",
       "version_major": 2,
       "version_minor": 0
      },
      "text/plain": [
       "Text(value=u'None')"
      ]
     },
     "metadata": {},
     "output_type": "display_data"
    },
    {
     "name": "stdout",
     "output_type": "stream",
     "text": [
      "\n",
      "Name: collapse_ch0\n",
      "Info: Number of the channel for source extraction, if collapse_mode = 'single', starting from 0\n",
      "Type: int\n",
      "Default: 0\n"
     ]
    },
    {
     "data": {
      "application/vnd.jupyter.widget-view+json": {
       "model_id": "4d9b31a0e1cd42c1928c2efd680f3f00",
       "version_major": 2,
       "version_minor": 0
      },
      "text/plain": [
       "Text(value=u'0')"
      ]
     },
     "metadata": {},
     "output_type": "display_data"
    },
    {
     "name": "stdout",
     "output_type": "stream",
     "text": [
      "\n",
      "Name: collapse_mode\n",
      "Info: Collapse method: 'average' or 'single'. Average channels or take single channel to perform source detection on\n",
      "Type: str\n",
      "Default: average\n"
     ]
    },
    {
     "data": {
      "application/vnd.jupyter.widget-view+json": {
       "model_id": "3b0f3a5f299a4d0db22468beb1be1bf3",
       "version_major": 2,
       "version_minor": 0
      },
      "text/plain": [
       "Text(value=u'average')"
      ]
     },
     "metadata": {},
     "output_type": "display_data"
    },
    {
     "name": "stdout",
     "output_type": "stream",
     "text": [
      "\n",
      "Name: frequency_sp\n",
      "Info: Frequency in Hz of channels in input image when more than one channel is present. E.g., frequency_sp = [74e6, 153e6]. None => get from header\n",
      "Type: list:float\n",
      "Default: None\n"
     ]
    },
    {
     "data": {
      "application/vnd.jupyter.widget-view+json": {
       "model_id": "11a2be24c8cb4f63a6d7f8c1cb53ba27",
       "version_major": 2,
       "version_minor": 0
      },
      "text/plain": [
       "Text(value=u'None')"
      ]
     },
     "metadata": {},
     "output_type": "display_data"
    },
    {
     "name": "stdout",
     "output_type": "stream",
     "text": [
      "\n",
      "Name: rms_box\n",
      "Info: Box size, step size for rms/mean map calculation. Specify as (box, step) in pixels. E.g., rms_box = (40, 10) => box of 40x40 pixels, step of 10 pixels. None => calculate inside program\n",
      "Type: list:int\n",
      "Default: None\n"
     ]
    },
    {
     "data": {
      "application/vnd.jupyter.widget-view+json": {
       "model_id": "b491288b5b154b2b8f3900e23f7d6237",
       "version_major": 2,
       "version_minor": 0
      },
      "text/plain": [
       "Text(value=u'None')"
      ]
     },
     "metadata": {},
     "output_type": "display_data"
    },
    {
     "name": "stdout",
     "output_type": "stream",
     "text": [
      "\n",
      "Name: rms_map\n",
      "Info: Background rms map: True => use 2-D rms map; False => use constant rms; None => calculate inside program\n",
      "Type: bool\n",
      "Default: None\n"
     ]
    },
    {
     "data": {
      "application/vnd.jupyter.widget-view+json": {
       "model_id": "b89e370bb49b4d9f8c06b6692a898e08",
       "version_major": 2,
       "version_minor": 0
      },
      "text/plain": [
       "Dropdown(index=1, options=(True, False), value=False)"
      ]
     },
     "metadata": {},
     "output_type": "display_data"
    },
    {
     "name": "stdout",
     "output_type": "stream",
     "text": [
      "\n",
      "Name: thresh\n",
      "Info: Type of thresholding: None => calculate inside program, 'fdr' => use false detection rate algorithm, 'hard' => use sigma clipping\n",
      "Type: str\n",
      "Default: None\n"
     ]
    },
    {
     "data": {
      "application/vnd.jupyter.widget-view+json": {
       "model_id": "6b46e509d8084e55acb6f1c2e6018719",
       "version_major": 2,
       "version_minor": 0
      },
      "text/plain": [
       "Text(value=u'None')"
      ]
     },
     "metadata": {},
     "output_type": "display_data"
    },
    {
     "name": "stdout",
     "output_type": "stream",
     "text": [
      "\n",
      "Name: thresh_isl\n",
      "Info: Threshold for the island boundary in number of sigma above the mean. Determines extent of island used for fitting\n",
      "Type: float\n",
      "Default: 3.0\n"
     ]
    },
    {
     "data": {
      "application/vnd.jupyter.widget-view+json": {
       "model_id": "6aa26e67ae4542e08271bba47dbc3b35",
       "version_major": 2,
       "version_minor": 0
      },
      "text/plain": [
       "Text(value=u'3.0')"
      ]
     },
     "metadata": {},
     "output_type": "display_data"
    },
    {
     "name": "stdout",
     "output_type": "stream",
     "text": [
      "\n",
      "Name: thresh_pix\n",
      "Info: Source detection threshold: threshold for the island peak in number of sigma above the mean. If false detection rate thresholding is used, this value is ignored and thresh_pix is calculated inside the program\n",
      "Type: float\n",
      "Default: 5.0\n"
     ]
    },
    {
     "data": {
      "application/vnd.jupyter.widget-view+json": {
       "model_id": "5f2a28b75d60469e9f5a904afb55e293",
       "version_major": 2,
       "version_minor": 0
      },
      "text/plain": [
       "Text(value=u'5.0')"
      ]
     },
     "metadata": {},
     "output_type": "display_data"
    },
    {
     "name": "stdout",
     "output_type": "stream",
     "text": [
      "\n",
      "Name: aperture\n",
      "Info: Radius of aperture in pixels inside which aperture fluxes are measured for each source. None => no aperture fluxes measured\n",
      "Type: bool\n",
      "Default: None\n"
     ]
    },
    {
     "data": {
      "application/vnd.jupyter.widget-view+json": {
       "model_id": "fab554922b8c43b0a34886c7e5c0b442",
       "version_major": 2,
       "version_minor": 0
      },
      "text/plain": [
       "Dropdown(index=1, options=(True, False), value=False)"
      ]
     },
     "metadata": {},
     "output_type": "display_data"
    },
    {
     "name": "stdout",
     "output_type": "stream",
     "text": [
      "\n",
      "Name: aperture_posn\n",
      "Info: Position the aperture (if aperture is not None) on: 'centroid' or 'peak' of the source.\n",
      "Type: str\n",
      "Default: centroid\n"
     ]
    },
    {
     "data": {
      "application/vnd.jupyter.widget-view+json": {
       "model_id": "f3b406a52be84e1abe3dff3cd03fd4a2",
       "version_major": 2,
       "version_minor": 0
      },
      "text/plain": [
       "Text(value=u'centroid')"
      ]
     },
     "metadata": {},
     "output_type": "display_data"
    },
    {
     "name": "stdout",
     "output_type": "stream",
     "text": [
      "\n",
      "Name: blank_limit\n",
      "Info: Limit in Jy/beam below which pixels are blanked. None => no such blanking is done\n",
      "Type: float\n",
      "Default: None\n"
     ]
    },
    {
     "data": {
      "application/vnd.jupyter.widget-view+json": {
       "model_id": "70488e9f89b941cd94e883bec2b6fb38",
       "version_major": 2,
       "version_minor": 0
      },
      "text/plain": [
       "Text(value=u'None')"
      ]
     },
     "metadata": {},
     "output_type": "display_data"
    },
    {
     "name": "stdout",
     "output_type": "stream",
     "text": [
      "\n",
      "Name: bmpersrc_th\n",
      "Info: Theoretical estimate of number of beams per source. None => calculate inside program\n",
      "Type: float\n",
      "Default: None\n"
     ]
    },
    {
     "data": {
      "application/vnd.jupyter.widget-view+json": {
       "model_id": "2c5e6728d7a44d0c9f6bca59108411b4",
       "version_major": 2,
       "version_minor": 0
      },
      "text/plain": [
       "Text(value=u'None')"
      ]
     },
     "metadata": {},
     "output_type": "display_data"
    },
    {
     "name": "stdout",
     "output_type": "stream",
     "text": [
      "\n",
      "Name: check_outsideuniv\n",
      "Info: Check for pixels outside the universe\n",
      "Type: bool\n",
      "Default: False\n"
     ]
    },
    {
     "data": {
      "application/vnd.jupyter.widget-view+json": {
       "model_id": "7245f427f6764075a9ea6d6d15772e61",
       "version_major": 2,
       "version_minor": 0
      },
      "text/plain": [
       "Dropdown(index=1, options=(True, False), value=False)"
      ]
     },
     "metadata": {},
     "output_type": "display_data"
    },
    {
     "name": "stdout",
     "output_type": "stream",
     "text": [
      "\n",
      "Name: detection_image\n",
      "Info: Detection image file name used only for detecting islands of emission. Source measurement is still done on the main image\n",
      "Type: file\n",
      "Default: None\n"
     ]
    },
    {
     "data": {
      "application/vnd.jupyter.widget-view+json": {
       "model_id": "63d675849dae4668a1232888f0d98b82",
       "version_major": 2,
       "version_minor": 0
      },
      "text/plain": [
       "Text(value=u'None')"
      ]
     },
     "metadata": {},
     "output_type": "display_data"
    },
    {
     "name": "stdout",
     "output_type": "stream",
     "text": [
      "\n",
      "Name: do_cache\n",
      "Info: Cache internally derived images to disk\n",
      "Type: bool\n",
      "Default: False\n"
     ]
    },
    {
     "data": {
      "application/vnd.jupyter.widget-view+json": {
       "model_id": "a1c4a33696f44bf3912ab763dbc84648",
       "version_major": 2,
       "version_minor": 0
      },
      "text/plain": [
       "Dropdown(index=1, options=(True, False), value=False)"
      ]
     },
     "metadata": {},
     "output_type": "display_data"
    },
    {
     "name": "stdout",
     "output_type": "stream",
     "text": [
      "\n",
      "Name: do_mc_errors\n",
      "Info: stimate uncertainties for 'M'-type sources using Monte Carlo method\n",
      "Type: bool\n",
      "Default: False\n"
     ]
    },
    {
     "data": {
      "application/vnd.jupyter.widget-view+json": {
       "model_id": "65c0ba080ba24419888edfb9a71781d7",
       "version_major": 2,
       "version_minor": 0
      },
      "text/plain": [
       "Dropdown(index=1, options=(True, False), value=False)"
      ]
     },
     "metadata": {},
     "output_type": "display_data"
    },
    {
     "name": "stdout",
     "output_type": "stream",
     "text": [
      "\n",
      "Name: fdr_alpha\n",
      "Info: Alpha for FDR algorithm for thresholds\n",
      "Type: float\n",
      "Default: 0.05\n"
     ]
    },
    {
     "data": {
      "application/vnd.jupyter.widget-view+json": {
       "model_id": "e112b3342fb94075b16731ac2255bf45",
       "version_major": 2,
       "version_minor": 0
      },
      "text/plain": [
       "Text(value=u'0.05')"
      ]
     },
     "metadata": {},
     "output_type": "display_data"
    },
    {
     "name": "stdout",
     "output_type": "stream",
     "text": [
      "\n",
      "Name: fdr_ratio\n",
      "Info: For thresh = None; if #false_pix / #source_pix < fdr_ratio, thresh = 'hard' else thresh = 'fdr'\n",
      "Type: float\n",
      "Default: 0.1\n"
     ]
    },
    {
     "data": {
      "application/vnd.jupyter.widget-view+json": {
       "model_id": "301d4dc21c5c43afba7737b8e5f3cdc5",
       "version_major": 2,
       "version_minor": 0
      },
      "text/plain": [
       "Text(value=u'0.1')"
      ]
     },
     "metadata": {},
     "output_type": "display_data"
    },
    {
     "name": "stdout",
     "output_type": "stream",
     "text": [
      "\n",
      "Name: fittedimage_clip\n",
      "Info: Sigma for clipping Gaussians while creating fitted image\n",
      "Type: float\n",
      "Default: 0.1\n"
     ]
    },
    {
     "data": {
      "application/vnd.jupyter.widget-view+json": {
       "model_id": "0fb578c15be44d4395daddcb3a293e99",
       "version_major": 2,
       "version_minor": 0
      },
      "text/plain": [
       "Text(value=u'0.1')"
      ]
     },
     "metadata": {},
     "output_type": "display_data"
    },
    {
     "name": "stdout",
     "output_type": "stream",
     "text": [
      "\n",
      "Name: fix_to_beam\n",
      "Info: Fix major and minor axes and PA of Gaussians to beam?\n",
      "Type: bool\n",
      "Default: True\n"
     ]
    },
    {
     "data": {
      "application/vnd.jupyter.widget-view+json": {
       "model_id": "8aad1ccad2f14550a613d020918c7124",
       "version_major": 2,
       "version_minor": 0
      },
      "text/plain": [
       "Dropdown(options=(True, False), value=True)"
      ]
     },
     "metadata": {},
     "output_type": "display_data"
    },
    {
     "name": "stdout",
     "output_type": "stream",
     "text": [
      "\n",
      "Name: group_by_isl\n",
      "Info: Group all Gaussians in each island into a single source\n",
      "Type: bool\n",
      "Default: False\n"
     ]
    },
    {
     "data": {
      "application/vnd.jupyter.widget-view+json": {
       "model_id": "df79ff9af4f1422db4d153766dcfb57a",
       "version_major": 2,
       "version_minor": 0
      },
      "text/plain": [
       "Dropdown(index=1, options=(True, False), value=False)"
      ]
     },
     "metadata": {},
     "output_type": "display_data"
    },
    {
     "name": "stdout",
     "output_type": "stream",
     "text": [
      "\n",
      "Name: group_method\n",
      "Info: Group Gaussians into sources using 'intensity' map or 'curvature' map\n",
      "Type: str\n",
      "Default: intensity\n"
     ]
    },
    {
     "data": {
      "application/vnd.jupyter.widget-view+json": {
       "model_id": "18bc9ffa1c334ea0aad89a8d5420aef5",
       "version_major": 2,
       "version_minor": 0
      },
      "text/plain": [
       "Text(value=u'intensity')"
      ]
     },
     "metadata": {},
     "output_type": "display_data"
    },
    {
     "name": "stdout",
     "output_type": "stream",
     "text": [
      "\n",
      "Name: group_tol\n",
      "Info: Tolerance for grouping of Gaussians into sources: larger values will result in larger sources\n",
      "Type: float\n",
      "Default: 1.0\n"
     ]
    },
    {
     "data": {
      "application/vnd.jupyter.widget-view+json": {
       "model_id": "105fb25d939c45f88f039507cfb926e3",
       "version_major": 2,
       "version_minor": 0
      },
      "text/plain": [
       "Text(value=u'1.0')"
      ]
     },
     "metadata": {},
     "output_type": "display_data"
    },
    {
     "name": "stdout",
     "output_type": "stream",
     "text": [
      "\n",
      "Name: ini_gausfit\n",
      "Info: Initial guess for Gaussian parameters: 'default', 'simple', or 'nobeam'\n",
      "Type: str\n",
      "Default: default\n"
     ]
    },
    {
     "data": {
      "application/vnd.jupyter.widget-view+json": {
       "model_id": "84e518d15e60485ba38d84f9a9bdc72d",
       "version_major": 2,
       "version_minor": 0
      },
      "text/plain": [
       "Text(value=u'default')"
      ]
     },
     "metadata": {},
     "output_type": "display_data"
    },
    {
     "name": "stdout",
     "output_type": "stream",
     "text": [
      "\n",
      "Name: ini_method\n",
      "Info: Method by which inital guess for fitting of Gaussians is chosen: 'intensity' or 'curvature'\n",
      "Type: str\n",
      "Default: intensity\n"
     ]
    },
    {
     "data": {
      "application/vnd.jupyter.widget-view+json": {
       "model_id": "32cffa800789416389ba283cb8a456a2",
       "version_major": 2,
       "version_minor": 0
      },
      "text/plain": [
       "Text(value=u'intensity')"
      ]
     },
     "metadata": {},
     "output_type": "display_data"
    },
    {
     "name": "stdout",
     "output_type": "stream",
     "text": [
      "\n",
      "Name: kappa_clip\n",
      "Info: Kappa for clipped mean and rms. None => calculate inside program\n",
      "Type: float\n",
      "Default: None\n"
     ]
    },
    {
     "data": {
      "application/vnd.jupyter.widget-view+json": {
       "model_id": "1a0b0fe545ed4be8ac7f40af942499a0",
       "version_major": 2,
       "version_minor": 0
      },
      "text/plain": [
       "Text(value=u'None')"
      ]
     },
     "metadata": {},
     "output_type": "display_data"
    },
    {
     "name": "stdout",
     "output_type": "stream",
     "text": [
      "\n",
      "Name: minpix_isl\n",
      "Info: Minimum number of pixels with emission per island (minimum is 6 pixels). None -> calculate inside program\n",
      "Type: int\n",
      "Default: None\n"
     ]
    },
    {
     "data": {
      "application/vnd.jupyter.widget-view+json": {
       "model_id": "78f865a2c4c04ce2b7e68cd30821b5a6",
       "version_major": 2,
       "version_minor": 0
      },
      "text/plain": [
       "Text(value=u'None')"
      ]
     },
     "metadata": {},
     "output_type": "display_data"
    },
    {
     "name": "stdout",
     "output_type": "stream",
     "text": [
      "\n",
      "Name: ncores\n",
      "Info: Number of cores to use during fitting, None => use all\n",
      "Type: int\n",
      "Default: None\n"
     ]
    },
    {
     "data": {
      "application/vnd.jupyter.widget-view+json": {
       "model_id": "954b90ef6ae24905b6f2ae9b8ddb3375",
       "version_major": 2,
       "version_minor": 0
      },
      "text/plain": [
       "Text(value=u'None')"
      ]
     },
     "metadata": {},
     "output_type": "display_data"
    },
    {
     "name": "stdout",
     "output_type": "stream",
     "text": [
      "\n",
      "Name: peak_fit\n",
      "Info: Find and fit peaks of large islands iteratively\n",
      "Type: bool\n",
      "Default: True\n"
     ]
    },
    {
     "data": {
      "application/vnd.jupyter.widget-view+json": {
       "model_id": "7c571be62356451ea3d443aff7532b0c",
       "version_major": 2,
       "version_minor": 0
      },
      "text/plain": [
       "Dropdown(options=(True, False), value=True)"
      ]
     },
     "metadata": {},
     "output_type": "display_data"
    },
    {
     "name": "stdout",
     "output_type": "stream",
     "text": [
      "\n",
      "Name: peak_maxsize\n",
      "Info: If island size in beam area is more than this, attempt to fit peaks iteratively (if peak_fit = True). Min value is 30\n",
      "Type: float\n",
      "Default: 30.0\n"
     ]
    },
    {
     "data": {
      "application/vnd.jupyter.widget-view+json": {
       "model_id": "86a307b9ee3e43cb9084b778a86ea878",
       "version_major": 2,
       "version_minor": 0
      },
      "text/plain": [
       "Text(value=u'30.0')"
      ]
     },
     "metadata": {},
     "output_type": "display_data"
    },
    {
     "name": "stdout",
     "output_type": "stream",
     "text": [
      "\n",
      "Name: rms_value\n",
      "Info: Value of constant rms in Jy/beam to use if rms_map = False. None => calculate inside program\n",
      "Type: float\n",
      "Default: None\n"
     ]
    },
    {
     "data": {
      "application/vnd.jupyter.widget-view+json": {
       "model_id": "27f9aed06e9e41b5b9b90c2eddc19abc",
       "version_major": 2,
       "version_minor": 0
      },
      "text/plain": [
       "Text(value=u'None')"
      ]
     },
     "metadata": {},
     "output_type": "display_data"
    },
    {
     "name": "stdout",
     "output_type": "stream",
     "text": [
      "\n",
      "Name: spline_rank\n",
      "Info: Rank of the interpolating function for rms/mean map\n",
      "Type: int\n",
      "Default: 3\n"
     ]
    },
    {
     "data": {
      "application/vnd.jupyter.widget-view+json": {
       "model_id": "59e0460063ca4fb6b50670dbda4b2c60",
       "version_major": 2,
       "version_minor": 0
      },
      "text/plain": [
       "Text(value=u'3')"
      ]
     },
     "metadata": {},
     "output_type": "display_data"
    },
    {
     "name": "stdout",
     "output_type": "stream",
     "text": [
      "\n",
      "Name: split_isl\n",
      "Info: Split island if it is too large, has a large convex deficiency and it opens well.\n",
      "Type: bool\n",
      "Default: True\n"
     ]
    },
    {
     "data": {
      "application/vnd.jupyter.widget-view+json": {
       "model_id": "53039dcd016c43c99f84e966cd146943",
       "version_major": 2,
       "version_minor": 0
      },
      "text/plain": [
       "Dropdown(options=(True, False), value=True)"
      ]
     },
     "metadata": {},
     "output_type": "display_data"
    },
    {
     "name": "stdout",
     "output_type": "stream",
     "text": [
      "\n",
      "Name: splitisl_maxsize\n",
      "Info: If island size in beam area is more than this, consider splitting island. Min value is 50\n",
      "Type: float\n",
      "Default: 50.0\n"
     ]
    },
    {
     "data": {
      "application/vnd.jupyter.widget-view+json": {
       "model_id": "54953c4390704a8b9a85f5eef4f0dafe",
       "version_major": 2,
       "version_minor": 0
      },
      "text/plain": [
       "Text(value=u'50.0')"
      ]
     },
     "metadata": {},
     "output_type": "display_data"
    },
    {
     "name": "stdout",
     "output_type": "stream",
     "text": [
      "\n",
      "Name: src_ra_dec\n",
      "Info: List of source positions at which fitting is done.  E.g., src_ra_dec = [(197.1932, 47.9188), (196.5573, 42.4852)]\n",
      "Type: list:list\n",
      "Default: None\n"
     ]
    },
    {
     "data": {
      "application/vnd.jupyter.widget-view+json": {
       "model_id": "aef2b145ba2e44e1a5c117c09748aaa1",
       "version_major": 2,
       "version_minor": 0
      },
      "text/plain": [
       "Text(value=u'None')"
      ]
     },
     "metadata": {},
     "output_type": "display_data"
    },
    {
     "name": "stdout",
     "output_type": "stream",
     "text": [
      "\n",
      "Name: src_radius_pix\n",
      "Info: Radius of the island (if src_ra_dec is not None) in pixels. None => radius is set to the FWHM of the beam major axis.\n",
      "Type: int\n",
      "Default: None\n"
     ]
    },
    {
     "data": {
      "application/vnd.jupyter.widget-view+json": {
       "model_id": "a78acf7070c942478be957015435ef82",
       "version_major": 2,
       "version_minor": 0
      },
      "text/plain": [
       "Text(value=u'None')"
      ]
     },
     "metadata": {},
     "output_type": "display_data"
    },
    {
     "name": "stdout",
     "output_type": "stream",
     "text": [
      "\n",
      "Name: stop_at\n",
      "Info: Stops after: 'isl' = island finding step or 'read' = image reading step\n",
      "Type: str\n",
      "Default: None\n"
     ]
    },
    {
     "data": {
      "application/vnd.jupyter.widget-view+json": {
       "model_id": "1b401857f5db4dc988a05de1abfdf9d5",
       "version_major": 2,
       "version_minor": 0
      },
      "text/plain": [
       "Text(value=u'None')"
      ]
     },
     "metadata": {},
     "output_type": "display_data"
    },
    {
     "name": "stdout",
     "output_type": "stream",
     "text": [
      "\n",
      "Name: trim_box\n",
      "Info: Do source detection on only a part of the image. Specify as (xmin, xmax, ymin, ymax) in pixels. E.g., trim_box = (120, 840, 15, 895). None => use entire image\n",
      "Type: list:int\n",
      "Default: None\n"
     ]
    },
    {
     "data": {
      "application/vnd.jupyter.widget-view+json": {
       "model_id": "ac0e2847ac7a48b7b0d31581f0385c6d",
       "version_major": 2,
       "version_minor": 0
      },
      "text/plain": [
       "Text(value=u'None')"
      ]
     },
     "metadata": {},
     "output_type": "display_data"
    },
    {
     "name": "stdout",
     "output_type": "stream",
     "text": [
      "\n",
      "Name: outfile\n",
      "Info: Output file name. None => file is named automatically; 'SAMP' => send to SAMP hub (e.g., to TOPCAT, ds9, or Aladin)\n",
      "Type: file\n",
      "Default: None\n",
      "Required: True\n"
     ]
    },
    {
     "data": {
      "application/vnd.jupyter.widget-view+json": {
       "model_id": "f664e9c8bcb3443eb54af455f30cdb99",
       "version_major": 2,
       "version_minor": 0
      },
      "text/plain": [
       "Text(value=u'None')"
      ]
     },
     "metadata": {},
     "output_type": "display_data"
    },
    {
     "name": "stdout",
     "output_type": "stream",
     "text": [
      "\n",
      "Name: bbs_patches\n",
      "Info: BBS format, type of patch to use: None => no patches. 'single' => all Gaussians in one patch. 'gaussian' => each Gaussian gets its own patch. 'source' => all Gaussians belonging to a single source are grouped into one patch. 'mask' => use mask file specified by bbs_patches_mask\n",
      "Type: str\n",
      "Default: None\n"
     ]
    },
    {
     "data": {
      "application/vnd.jupyter.widget-view+json": {
       "model_id": "ee4d87d2e0c44086b98779f5ebe7f890",
       "version_major": 2,
       "version_minor": 0
      },
      "text/plain": [
       "Text(value=u'None')"
      ]
     },
     "metadata": {},
     "output_type": "display_data"
    },
    {
     "name": "stdout",
     "output_type": "stream",
     "text": [
      "\n",
      "Name: bbs_patches_mask\n",
      "Info: Name of the mask file (of same size as input image) that defines the patches if bbs_patches = 'mask'\n",
      "Type: file\n",
      "Default: None\n"
     ]
    },
    {
     "data": {
      "application/vnd.jupyter.widget-view+json": {
       "model_id": "a96b990a166345e7bf6ceb6a888d9940",
       "version_major": 2,
       "version_minor": 0
      },
      "text/plain": [
       "Text(value=u'None')"
      ]
     },
     "metadata": {},
     "output_type": "display_data"
    },
    {
     "name": "stdout",
     "output_type": "stream",
     "text": [
      "\n",
      "Name: catalog_type\n",
      "Info: Type of catalog to write:  'gaul' - Gaussian list, 'srl' - source list (formed by grouping Gaussians), 'shap' - shapelet list (FITS format only)\n",
      "Type: str\n",
      "Default: gaul\n"
     ]
    },
    {
     "data": {
      "application/vnd.jupyter.widget-view+json": {
       "model_id": "9cb5d72b0f114aa4bfba8e8b4cdbfbcc",
       "version_major": 2,
       "version_minor": 0
      },
      "text/plain": [
       "Text(value=u'gaul')"
      ]
     },
     "metadata": {},
     "output_type": "display_data"
    },
    {
     "name": "stdout",
     "output_type": "stream",
     "text": [
      "\n",
      "Name: clobber\n",
      "Info: Overwrite existing file?\n",
      "Type: bool\n",
      "Default: True\n"
     ]
    },
    {
     "data": {
      "application/vnd.jupyter.widget-view+json": {
       "model_id": "86374fd610f643f4b838625352bf96b9",
       "version_major": 2,
       "version_minor": 0
      },
      "text/plain": [
       "Dropdown(options=(True, False), value=True)"
      ]
     },
     "metadata": {},
     "output_type": "display_data"
    },
    {
     "name": "stdout",
     "output_type": "stream",
     "text": [
      "\n",
      "Name: correct_proj\n",
      "Info: Correct source parameters for image projection (BBS format only)?\n",
      "Type: bool\n",
      "Default: True\n"
     ]
    },
    {
     "data": {
      "application/vnd.jupyter.widget-view+json": {
       "model_id": "fa573f17701d4ad4be7be7d7fa661a2a",
       "version_major": 2,
       "version_minor": 0
      },
      "text/plain": [
       "Dropdown(options=(True, False), value=True)"
      ]
     },
     "metadata": {},
     "output_type": "display_data"
    },
    {
     "name": "stdout",
     "output_type": "stream",
     "text": [
      "\n",
      "Name: format\n",
      "Info: Format of output catalog\n",
      "Type: str\n",
      "Default: fits\n"
     ]
    },
    {
     "data": {
      "application/vnd.jupyter.widget-view+json": {
       "model_id": "39a778558d554012982899811d798846",
       "version_major": 2,
       "version_minor": 0
      },
      "text/plain": [
       "Text(value=u'fits')"
      ]
     },
     "metadata": {},
     "output_type": "display_data"
    },
    {
     "name": "stdout",
     "output_type": "stream",
     "text": [
      "\n",
      "Name: incl_chan\n",
      "Info: Include flux densities from each channel (if any)?\n",
      "Type: bool\n",
      "Default: False\n"
     ]
    },
    {
     "data": {
      "application/vnd.jupyter.widget-view+json": {
       "model_id": "c39f3a2e96d44592a7d713a216c3c406",
       "version_major": 2,
       "version_minor": 0
      },
      "text/plain": [
       "Dropdown(index=1, options=(True, False), value=False)"
      ]
     },
     "metadata": {},
     "output_type": "display_data"
    },
    {
     "name": "stdout",
     "output_type": "stream",
     "text": [
      "\n",
      "Name: incl_empty\n",
      "Info: Include islands without any valid Gaussians (source list only)?\n",
      "Type: bool\n",
      "Default: False\n"
     ]
    },
    {
     "data": {
      "application/vnd.jupyter.widget-view+json": {
       "model_id": "67f031771a2641cc96f044f1d1a00134",
       "version_major": 2,
       "version_minor": 0
      },
      "text/plain": [
       "Dropdown(index=1, options=(True, False), value=False)"
      ]
     },
     "metadata": {},
     "output_type": "display_data"
    },
    {
     "name": "stdout",
     "output_type": "stream",
     "text": [
      "\n",
      "Name: srcroot\n",
      "Info: Name for entries in the output catalog (BBS format only). None => use image file name\n",
      "Type: file\n",
      "Default: None\n"
     ]
    },
    {
     "data": {
      "application/vnd.jupyter.widget-view+json": {
       "model_id": "56c18dc712bb4129a6db71e558529ded",
       "version_major": 2,
       "version_minor": 0
      },
      "text/plain": [
       "Text(value=u'None')"
      ]
     },
     "metadata": {},
     "output_type": "display_data"
    },
    {
     "name": "stdout",
     "output_type": "stream",
     "text": [
      "\n",
      "Name: port2tigger\n",
      "Info: Convert output model to tigger format\n",
      "Type: bool\n",
      "Default: True\n"
     ]
    },
    {
     "data": {
      "application/vnd.jupyter.widget-view+json": {
       "model_id": "605fe67b66714fc9b55f135641ab0ffc",
       "version_major": 2,
       "version_minor": 0
      },
      "text/plain": [
       "Dropdown(options=(True, False), value=True)"
      ]
     },
     "metadata": {},
     "output_type": "display_data"
    },
    {
     "name": "stdout",
     "output_type": "stream",
     "text": [
      "\n",
      "Name: spectralindex_do\n",
      "Info: Calculate spectral indices (for multi-channel image)\n",
      "Type: bool\n",
      "Default: False\n"
     ]
    },
    {
     "data": {
      "application/vnd.jupyter.widget-view+json": {
       "model_id": "09a850da381d4b57a9c6bd9b2233a1de",
       "version_major": 2,
       "version_minor": 0
      },
      "text/plain": [
       "Dropdown(index=1, options=(True, False), value=False)"
      ]
     },
     "metadata": {},
     "output_type": "display_data"
    },
    {
     "name": "stdout",
     "output_type": "stream",
     "text": [
      "\n",
      "Name: freq0\n",
      "Info: Start frequency (unit => Hz)\n",
      "Type: float\n",
      "Default: None\n"
     ]
    },
    {
     "data": {
      "application/vnd.jupyter.widget-view+json": {
       "model_id": "51e3d6fbf2654015bd9b95c728611b28",
       "version_major": 2,
       "version_minor": 0
      },
      "text/plain": [
       "Text(value=u'None')"
      ]
     },
     "metadata": {},
     "output_type": "display_data"
    },
    {
     "name": "stdout",
     "output_type": "stream",
     "text": [
      "\n"
     ]
    }
   ],
   "source": [
    "c = DATA[cab.value]\n",
    "print(c['description'])\n",
    "params = c['parameters']\n",
    "PARAMS = dict()\n",
    "for param in params:\n",
    "    PAR = dict()\n",
    "    print \"Name: \" + str(param['name'])\n",
    "    print \"Info: \" + str(param['info'])\n",
    "    print \"Type: \" + str(param['dtype'])\n",
    "    if 'default' in param:\n",
    "        print \"Default: \" + str(param['default'])\n",
    "    if 'required' in param:\n",
    "        print \"Required: \" + str(param['required'])\n",
    "    if param['dtype'] in ['str', 'int', 'file', 'float', 'list:str', 'list:int',\n",
    "                          'list:file', 'list:float', 'list:list']:\n",
    "        PAR[param['name']] = widgets.Text(value=str(param['default']) if 'default' in param else '')\n",
    "    elif param['dtype'] in ['bool']:\n",
    "        PAR[param['name']] = widgets.Dropdown(options=[True, False],\n",
    "                                              value=bool(param['default']))# if 'default' in param else '')\n",
    "    display(PAR[param['name']])\n",
    "    PARAMS[cab.value] = PAR\n",
    "    print ''"
   ]
  },
  {
   "cell_type": "code",
   "execution_count": 6,
   "metadata": {
    "extensions": {
     "jupyter_dashboards": {
      "version": 1,
      "views": {
       "grid_default": {},
       "report_default": {}
      }
     }
    }
   },
   "outputs": [
    {
     "data": {
      "application/vnd.jupyter.widget-view+json": {
       "model_id": "6d4385a891954f5ebf00d078af41cf57",
       "version_major": 2,
       "version_minor": 0
      },
      "text/plain": [
       "Button(description=u'ADD', style=ButtonStyle())"
      ]
     },
     "metadata": {},
     "output_type": "display_data"
    },
    {
     "data": {
      "application/javascript": [
       "IPython.notebook.execute_cell_range(IPython.notebook.get_selected_index()+1,IPython.notebook.get_selected_index()+4)"
      ],
      "text/plain": [
       "<IPython.core.display.Javascript object>"
      ]
     },
     "metadata": {},
     "output_type": "display_data"
    },
    {
     "data": {
      "application/javascript": [
       "IPython.notebook.execute_cell_range(IPython.notebook.get_selected_index()+1,IPython.notebook.get_selected_index()+4)"
      ],
      "text/plain": [
       "<IPython.core.display.Javascript object>"
      ]
     },
     "metadata": {},
     "output_type": "display_data"
    },
    {
     "data": {
      "application/javascript": [
       "IPython.notebook.execute_cell_range(IPython.notebook.get_selected_index()+1,IPython.notebook.get_selected_index()+4)"
      ],
      "text/plain": [
       "<IPython.core.display.Javascript object>"
      ]
     },
     "metadata": {},
     "output_type": "display_data"
    }
   ],
   "source": [
    "def run_all(ev):\n",
    "    # Runn all cells\n",
    "    #display(Javascript('IPython.notebook.execute_cells_below()'))\n",
    "    display(Javascript('IPython.notebook.execute_cell_range(IPython.notebook.get_selected_index()+1,'\n",
    "                       'IPython.notebook.get_selected_index()+4)'))\n",
    "\n",
    "button = widgets.Button(description=\"ADD\")\n",
    "button.on_click(run_all)\n",
    "display(button)"
   ]
  },
  {
   "cell_type": "code",
   "execution_count": 10,
   "metadata": {
    "extensions": {
     "jupyter_dashboards": {
      "version": 1,
      "views": {
       "grid_default": {},
       "report_default": {}
      }
     }
    }
   },
   "outputs": [
    {
     "name": "stdout",
     "output_type": "stream",
     "text": [
      "The jupyternotify extension is already loaded. To reload it, use:\n",
      "  %reload_ext jupyternotify\n"
     ]
    },
    {
     "data": {
      "application/vnd.jupyter.widget-view+json": {
       "model_id": "2adfa9d64a5c4b99be5f4389bb89db00",
       "version_major": 2,
       "version_minor": 0
      },
      "text/plain": [
       "Button(description=u'RUN ALL', style=ButtonStyle())"
      ]
     },
     "metadata": {},
     "output_type": "display_data"
    }
   ],
   "source": [
    "%load_ext jupyternotify\n",
    "\n",
    "def run_all(ev):\n",
    "    # Runn all cells\n",
    "    #display(Javascript('IPython.notebook.execute_cells_below()'))\n",
    "    display(Javascript('IPython.notebook.execute_cell_range(IPython.notebook.get_selected_index()+1,'\n",
    "                       'IPython.notebook.get_selected_index()+4)'))\n",
    "\n",
    "button = widgets.Button(description=\"RUN ALL\")\n",
    "button.on_click(run_all)\n",
    "display(button)"
   ]
  },
  {
   "cell_type": "code",
   "execution_count": null,
   "metadata": {
    "extensions": {
     "jupyter_dashboards": {
      "version": 1,
      "views": {
       "grid_default": {},
       "report_default": {}
      }
     }
    }
   },
   "outputs": [],
   "source": []
  }
 ],
 "metadata": {
  "extensions": {
   "jupyter_dashboards": {
    "activeView": "grid_default",
    "version": 1,
    "views": {
     "grid_default": {
      "cellMargin": 10,
      "defaultCellHeight": 20,
      "maxColumns": 12,
      "name": "grid",
      "type": "grid"
     },
     "report_default": {
      "name": "report",
      "type": "report"
     }
    }
   }
  },
  "kernelspec": {
   "display_name": "Python 2",
   "language": "python",
   "name": "python2"
  },
  "language_info": {
   "codemirror_mode": {
    "name": "ipython",
    "version": 2
   },
   "file_extension": ".py",
   "mimetype": "text/x-python",
   "name": "python",
   "nbconvert_exporter": "python",
   "pygments_lexer": "ipython2",
   "version": "2.7.6"
  }
 },
 "nbformat": 4,
 "nbformat_minor": 2
}

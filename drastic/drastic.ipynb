{
 "cells": [
  {
   "cell_type": "code",
   "execution_count": 1,
   "metadata": {
    "extensions": {
     "jupyter_dashboards": {
      "version": 1,
      "views": {
       "grid_default": {},
       "report_default": {}
      }
     }
    }
   },
   "outputs": [
    {
     "name": "stdout",
     "output_type": "stream",
     "text": [
      "mkdir: cannot create directory ‘msdir’: File exists\n",
      "mkdir: cannot create directory ‘input’: File exists\n",
      "mkdir: cannot create directory ‘output’: File exists\n"
     ]
    }
   ],
   "source": [
    "# Don't change the names\n",
    "!mkdir msdir\n",
    "!mkdir input\n",
    "!mkdir output"
   ]
  },
  {
   "cell_type": "code",
   "execution_count": 2,
   "metadata": {
    "extensions": {
     "jupyter_dashboards": {
      "version": 1,
      "views": {
       "grid_default": {},
       "report_default": {}
      }
     }
    }
   },
   "outputs": [],
   "source": [
    "import json\n",
    "import stimela\n",
    "import drastic\n",
    "import pkg_resources\n",
    "from ipywidgets import widgets, interact\n",
    "from IPython.display import Javascript"
   ]
  },
  {
   "cell_type": "code",
   "execution_count": 3,
   "metadata": {
    "extensions": {
     "jupyter_dashboards": {
      "version": 1,
      "views": {
       "grid_default": {},
       "report_default": {}
      }
     }
    }
   },
   "outputs": [
    {
     "data": {
      "application/vnd.jupyter.widget-view+json": {
       "model_id": "6871879c83f54cbd8c9f0eb8a2ea4b6c",
       "version_major": 2,
       "version_minor": 0
      },
      "text/plain": [
       "Button(description=u'Configure', style=ButtonStyle())"
      ]
     },
     "metadata": {},
     "output_type": "display_data"
    },
    {
     "data": {
      "text/html": [
       "<script>\n",
       "code_show=true; \n",
       "function code_toggle() {\n",
       " if (code_show){\n",
       " $('div.input').hide();\n",
       " } else {\n",
       " $('div.input').show();\n",
       " }\n",
       " code_show = !code_show\n",
       "} \n",
       "$( document ).ready(code_toggle);\n",
       "</script>\n",
       "<form action=\"javascript:code_toggle()\"><input type=\"submit\"\n",
       "value=\"Click here to toggle on/off the raw code.\"></form>"
      ],
      "text/plain": [
       "<IPython.core.display.HTML object>"
      ]
     },
     "execution_count": 3,
     "metadata": {},
     "output_type": "execute_result"
    },
    {
     "data": {
      "application/javascript": [
       "IPython.notebook.execute_cell_range(IPython.notebook.get_selected_index()+1,IPython.notebook.get_selected_index()+6)"
      ],
      "text/plain": [
       "<IPython.core.display.Javascript object>"
      ]
     },
     "metadata": {},
     "output_type": "display_data"
    }
   ],
   "source": [
    "def run_all(ev):\n",
    "    # Runn all cells\n",
    "    #display(Javascript('IPython.notebook.execute_cells_below()'))\n",
    "    display(Javascript('IPython.notebook.execute_cell_range(IPython.notebook.get_selected_index()+1,'\n",
    "                       'IPython.notebook.get_selected_index()+6)'))\n",
    "\n",
    "button = widgets.Button(description=\"Configure\")\n",
    "button.on_click(run_all)\n",
    "display(button)\n",
    "\n",
    "from IPython.display import HTML\n",
    "\n",
    "HTML('''<script>\n",
    "code_show=true; \n",
    "function code_toggle() {\n",
    " if (code_show){\n",
    " $('div.input').hide();\n",
    " } else {\n",
    " $('div.input').show();\n",
    " }\n",
    " code_show = !code_show\n",
    "} \n",
    "$( document ).ready(code_toggle);\n",
    "</script>\n",
    "<form action=\"javascript:code_toggle()\"><input type=\"submit\"\n",
    "value=\"Click here to toggle on/off the raw code.\"></form>''')"
   ]
  },
  {
   "cell_type": "code",
   "execution_count": 4,
   "metadata": {
    "extensions": {
     "jupyter_dashboards": {
      "version": 1,
      "views": {
       "grid_default": {},
       "report_default": {}
      }
     }
    }
   },
   "outputs": [
    {
     "name": "stdout",
     "output_type": "stream",
     "text": [
      "2019-05-27 12:32:03,793 - STIMELA - INFO - ---------------------------------\n",
      "2019-05-27 12:32:03,795 - STIMELA - INFO - Stimela version 1.0.1\n",
      "2019-05-27 12:32:03,796 - STIMELA - INFO - Sphesihle Makhathini <sphemakh@gmail.com>\n",
      "2019-05-27 12:32:03,798 - STIMELA - INFO - Running: Make Pipeline\n",
      "2019-05-27 12:32:03,799 - STIMELA - INFO - ---------------------------------\n"
     ]
    }
   ],
   "source": [
    "DATA = dict()\n",
    "MSDIR = 'msdir'\n",
    "recipe = stimela.Recipe('Make Pipeline', ms_dir=MSDIR)\n",
    "cab_names = ['simms', 'simulator', 'calibrator', 'wsclean', 'ddfacet', 'cleanmask', 'casa_makemask',\n",
    "             'casa_clean', 'lwimager', 'casa_tclean', #'cubical',\n",
    "             'fitstool', 'pybdsm', 'aegean',]#stimela.CAB\n",
    "def setup():\n",
    "    for cab_name in cab_names:\n",
    "        PARAM_FILE_PATH = pkg_resources.resource_filename('stimela', 'cargo/cab/{}'.format(cab_name))\n",
    "        PARAM_FILE = '{}/parameters.json'.format(PARAM_FILE_PATH)\n",
    "\n",
    "        with open(PARAM_FILE) as par:\n",
    "            DATA[cab_name] = json.load(par)\n",
    "setup()"
   ]
  },
  {
   "cell_type": "code",
   "execution_count": 5,
   "metadata": {},
   "outputs": [
    {
     "data": {
      "application/vnd.jupyter.widget-view+json": {
       "model_id": "9e55782b75e146808aacf9017cf19c61",
       "version_major": 2,
       "version_minor": 0
      },
      "text/plain": [
       "Text(value=u'', description=u'Recipe File:', placeholder=u'recipe.json')"
      ]
     },
     "metadata": {},
     "output_type": "display_data"
    }
   ],
   "source": [
    "recipe_file = widgets.Text(\n",
    "    value='',\n",
    "    placeholder='recipe.json',\n",
    "    description='Recipe File:',\n",
    "    disabled=False\n",
    ")\n",
    "display(recipe_file)"
   ]
  },
  {
   "cell_type": "markdown",
   "metadata": {
    "extensions": {
     "jupyter_dashboards": {
      "version": 1,
      "views": {
       "grid_default": {},
       "report_default": {}
      }
     }
    }
   },
   "source": [
    "Select cab to use:"
   ]
  },
  {
   "cell_type": "code",
   "execution_count": 6,
   "metadata": {
    "extensions": {
     "jupyter_dashboards": {
      "version": 1,
      "views": {
       "grid_default": {},
       "report_default": {}
      }
     }
    }
   },
   "outputs": [
    {
     "data": {
      "application/vnd.jupyter.widget-view+json": {
       "model_id": "ac8614dfa2d147b9b0dcf32074ad7cd3",
       "version_major": 2,
       "version_minor": 0
      },
      "text/plain": [
       "RHJvcGRvd24oZGVzY3JpcHRpb249dSdUYXNrOicsIG9wdGlvbnM9KCdzaW1tcycsICdzaW11bGF0b3InLCAnY2FsaWJyYXRvcicsICd3c2NsZWFuJywgJ2RkZmFjZXQnLCAnY2xlYW5tYXNrJyzigKY=\n"
      ]
     },
     "metadata": {},
     "output_type": "display_data"
    }
   ],
   "source": [
    "cab = widgets.Dropdown(\n",
    "    options=cab_names,\n",
    "    description='Task:',\n",
    "    disabled=False)\n",
    "display(cab)"
   ]
  },
  {
   "cell_type": "code",
   "execution_count": 7,
   "metadata": {},
   "outputs": [
    {
     "data": {
      "application/vnd.jupyter.widget-view+json": {
       "model_id": "c9ac26ea223f41eeaf90ddcb784ce711",
       "version_major": 2,
       "version_minor": 0
      },
      "text/plain": [
       "Button(description=u'SELECT', style=ButtonStyle())"
      ]
     },
     "metadata": {},
     "output_type": "display_data"
    },
    {
     "data": {
      "application/javascript": [
       "IPython.notebook.execute_cell_range(IPython.notebook.get_selected_index()+1,IPython.notebook.get_selected_index()+4)"
      ],
      "text/plain": [
       "<IPython.core.display.Javascript object>"
      ]
     },
     "metadata": {},
     "output_type": "display_data"
    },
    {
     "data": {
      "application/javascript": [
       "IPython.notebook.execute_cell_range(IPython.notebook.get_selected_index()+1,IPython.notebook.get_selected_index()+4)"
      ],
      "text/plain": [
       "<IPython.core.display.Javascript object>"
      ]
     },
     "metadata": {},
     "output_type": "display_data"
    }
   ],
   "source": [
    "def run_all(ev):\n",
    "    # Runn all cells\n",
    "    #display(Javascript('IPython.notebook.execute_cells_below()'))\n",
    "    display(Javascript('IPython.notebook.execute_cell_range(IPython.notebook.get_selected_index()+1,'\n",
    "                       'IPython.notebook.get_selected_index()+4)'))\n",
    "\n",
    "button = widgets.Button(description=\"SELECT\")\n",
    "button.on_click(run_all)\n",
    "display(button)"
   ]
  },
  {
   "cell_type": "code",
   "execution_count": 14,
   "metadata": {
    "extensions": {
     "jupyter_dashboards": {
      "version": 1,
      "views": {
       "grid_default": {},
       "report_default": {}
      }
     }
    },
    "scrolled": false
   },
   "outputs": [
    {
     "name": "stdout",
     "output_type": "stream",
     "text": [
      "Uses MeqTrees to simulate a sky model (Gaussians and point sources) into measurement set (MS)\n",
      "\n",
      "Name: msname\n",
      "Info: MS to simulate sky model into\n",
      "Type: file\n",
      "Default: None\n",
      "Required: True\n"
     ]
    },
    {
     "data": {
      "application/vnd.jupyter.widget-view+json": {
       "model_id": "cfe298e49bbd4bc39b683044a6e9826a",
       "version_major": 2,
       "version_minor": 0
      },
      "text/plain": [
       "Text(value=u'None')"
      ]
     },
     "metadata": {},
     "output_type": "display_data"
    },
    {
     "name": "stdout",
     "output_type": "stream",
     "text": [
      "\n",
      "Name: tdlconf\n",
      "Info: TDL configuration file. If not specified, will use a default template\n",
      "Type: file\n",
      "Default: None\n"
     ]
    },
    {
     "data": {
      "application/vnd.jupyter.widget-view+json": {
       "model_id": "2dedda9b9cca4c2e81804b3ce0b76551",
       "version_major": 2,
       "version_minor": 0
      },
      "text/plain": [
       "Text(value=u'None')"
      ]
     },
     "metadata": {},
     "output_type": "display_data"
    },
    {
     "name": "stdout",
     "output_type": "stream",
     "text": [
      "\n",
      "Name: save-config\n",
      "Info: save final configuration (after all command-line arguments have been applied)\n",
      "Type: file\n",
      "Default: None\n"
     ]
    },
    {
     "data": {
      "application/vnd.jupyter.widget-view+json": {
       "model_id": "637aa72b2649450e8a9248f1cd8762a4",
       "version_major": 2,
       "version_minor": 0
      },
      "text/plain": [
       "Text(value=u'None')"
      ]
     },
     "metadata": {},
     "output_type": "display_data"
    },
    {
     "name": "stdout",
     "output_type": "stream",
     "text": [
      "\n",
      "Name: threads\n",
      "Info: Number of CPUs to use for  multithreading\n",
      "Type: int\n",
      "Default: 2\n"
     ]
    },
    {
     "data": {
      "application/vnd.jupyter.widget-view+json": {
       "model_id": "e15a4e46bd174aeca94e0d619278f2a5",
       "version_major": 2,
       "version_minor": 0
      },
      "text/plain": [
       "IntText(value=2)"
      ]
     },
     "metadata": {},
     "output_type": "display_data"
    },
    {
     "name": "stdout",
     "output_type": "stream",
     "text": [
      "\n",
      "Name: tile-size\n",
      "Info: Chunk size in timebins\n",
      "Type: int\n",
      "Default: 16\n"
     ]
    },
    {
     "data": {
      "application/vnd.jupyter.widget-view+json": {
       "model_id": "193fcffc467a44738315990ac9a1d247",
       "version_major": 2,
       "version_minor": 0
      },
      "text/plain": [
       "IntText(value=16)"
      ]
     },
     "metadata": {},
     "output_type": "display_data"
    },
    {
     "name": "stdout",
     "output_type": "stream",
     "text": [
      "\n",
      "Name: section\n",
      "Info: Section to execute in TDL config file. Only needed if using custom TDL config\n",
      "Type: str\n",
      "Default: None\n"
     ]
    },
    {
     "data": {
      "application/vnd.jupyter.widget-view+json": {
       "model_id": "9969b5ec38ba4844a56ae1251bc33012",
       "version_major": 2,
       "version_minor": 0
      },
      "text/plain": [
       "Text(value=u'None')"
      ]
     },
     "metadata": {},
     "output_type": "display_data"
    },
    {
     "name": "stdout",
     "output_type": "stream",
     "text": [
      "\n",
      "Name: mode\n",
      "Info: Simulation mode. You can; i) 'simulate' - replace; ii) 'add' to; iii) or 'subtract' from the data in the specified column\n",
      "Type: str\n",
      "Default: simulate\n"
     ]
    },
    {
     "data": {
      "application/vnd.jupyter.widget-view+json": {
       "model_id": "1c40cd6ff9fa44ea973c7e281e75ad0c",
       "version_major": 2,
       "version_minor": 0
      },
      "text/plain": [
       "Text(value=u'simulate')"
      ]
     },
     "metadata": {},
     "output_type": "display_data"
    },
    {
     "name": "stdout",
     "output_type": "stream",
     "text": [
      "\n",
      "Name: tile-size\n",
      "Info: Size of tile (time bins) to process. Can be used to reduce memory footprint\n",
      "Type: int\n",
      "Default: 1\n"
     ]
    },
    {
     "data": {
      "application/vnd.jupyter.widget-view+json": {
       "model_id": "5f2658aa680b4fdc81502cd91b47239e",
       "version_major": 2,
       "version_minor": 0
      },
      "text/plain": [
       "IntText(value=1)"
      ]
     },
     "metadata": {},
     "output_type": "display_data"
    },
    {
     "name": "stdout",
     "output_type": "stream",
     "text": [
      "\n",
      "Name: skymodel\n",
      "Info: Sky model to be simulated\n",
      "Type: file\n",
      "Default: None\n"
     ]
    },
    {
     "data": {
      "application/vnd.jupyter.widget-view+json": {
       "model_id": "4b25f695ba6f4727a753884e863131a8",
       "version_major": 2,
       "version_minor": 0
      },
      "text/plain": [
       "Text(value=u'None')"
      ]
     },
     "metadata": {},
     "output_type": "display_data"
    },
    {
     "name": "stdout",
     "output_type": "stream",
     "text": [
      "\n",
      "Name: field-center\n",
      "Info: Recenter the sky model to this direction\n",
      "Type: str\n",
      "Default: None\n"
     ]
    },
    {
     "data": {
      "application/vnd.jupyter.widget-view+json": {
       "model_id": "5cf051fa72114081b58152d79728718e",
       "version_major": 2,
       "version_minor": 0
      },
      "text/plain": [
       "Text(value=u'None')"
      ]
     },
     "metadata": {},
     "output_type": "display_data"
    },
    {
     "name": "stdout",
     "output_type": "stream",
     "text": [
      "\n",
      "Name: recenter\n",
      "Info: Recenter skymodel to phase center of MS\n",
      "Type: bool\n",
      "Default: False\n"
     ]
    },
    {
     "data": {
      "application/vnd.jupyter.widget-view+json": {
       "model_id": "198bafaa862b40439c6a89112ccf9ea7",
       "version_major": 2,
       "version_minor": 0
      },
      "text/plain": [
       "Dropdown(index=1, options=(True, False), value=False)"
      ]
     },
     "metadata": {},
     "output_type": "display_data"
    },
    {
     "name": "stdout",
     "output_type": "stream",
     "text": [
      "\n",
      "Name: smearing\n",
      "Info: Enable time and bandwidth smearing in simulation\n",
      "Type: bool\n",
      "Default: False\n"
     ]
    },
    {
     "data": {
      "application/vnd.jupyter.widget-view+json": {
       "model_id": "89d67f81f73444f8860e849721e437ff",
       "version_major": 2,
       "version_minor": 0
      },
      "text/plain": [
       "Dropdown(index=1, options=(True, False), value=False)"
      ]
     },
     "metadata": {},
     "output_type": "display_data"
    },
    {
     "name": "stdout",
     "output_type": "stream",
     "text": [
      "\n",
      "Name: addnoise\n",
      "Info: Add noise to simulated data\n",
      "Type: bool\n",
      "Default: False\n"
     ]
    },
    {
     "data": {
      "application/vnd.jupyter.widget-view+json": {
       "model_id": "f4c02044fd4f4d57b59d127842eb7b8c",
       "version_major": 2,
       "version_minor": 0
      },
      "text/plain": [
       "Dropdown(index=1, options=(True, False), value=False)"
      ]
     },
     "metadata": {},
     "output_type": "display_data"
    },
    {
     "name": "stdout",
     "output_type": "stream",
     "text": [
      "\n",
      "Name: sefd\n",
      "Info: Noise to be added to the simulated data will be derived from this value (~sefd/sqrt(dt*dv))\n",
      "Type: float\n",
      "Default: None\n"
     ]
    },
    {
     "data": {
      "application/vnd.jupyter.widget-view+json": {
       "model_id": "654261435d1b4b46bb74a3972a6ad989",
       "version_major": 2,
       "version_minor": 0
      },
      "text/plain": [
       "Text(value=u'None')"
      ]
     },
     "metadata": {},
     "output_type": "display_data"
    },
    {
     "name": "stdout",
     "output_type": "stream",
     "text": [
      "\n",
      "Name: Gjones\n",
      "Info: Enable direction independent corruptions to simulated data\n",
      "Type: bool\n",
      "Default: False\n"
     ]
    },
    {
     "data": {
      "application/vnd.jupyter.widget-view+json": {
       "model_id": "2f806a4cf825451f942b5ee383d106e0",
       "version_major": 2,
       "version_minor": 0
      },
      "text/plain": [
       "Dropdown(index=1, options=(True, False), value=False)"
      ]
     },
     "metadata": {},
     "output_type": "display_data"
    },
    {
     "name": "stdout",
     "output_type": "stream",
     "text": [
      "\n",
      "Name: field-id\n",
      "Info: Field ID\n",
      "Type: int\n",
      "Default: 0\n"
     ]
    },
    {
     "data": {
      "application/vnd.jupyter.widget-view+json": {
       "model_id": "752d5d4b34ac49d488bb33740739beec",
       "version_major": 2,
       "version_minor": 0
      },
      "text/plain": [
       "IntText(value=0)"
      ]
     },
     "metadata": {},
     "output_type": "display_data"
    },
    {
     "name": "stdout",
     "output_type": "stream",
     "text": [
      "\n",
      "Name: spw-id\n",
      "Info: SPW ID\n",
      "Type: int\n",
      "Default: 0\n"
     ]
    },
    {
     "data": {
      "application/vnd.jupyter.widget-view+json": {
       "model_id": "ee24e2c7d6f241b9a5ecbdceddd1ac4c",
       "version_major": 2,
       "version_minor": 0
      },
      "text/plain": [
       "IntText(value=0)"
      ]
     },
     "metadata": {},
     "output_type": "display_data"
    },
    {
     "name": "stdout",
     "output_type": "stream",
     "text": [
      "\n",
      "Name: noise\n",
      "Info: Noise to add to visibility data. In Jy\n",
      "Type: float\n",
      "Default: 0\n"
     ]
    },
    {
     "data": {
      "application/vnd.jupyter.widget-view+json": {
       "model_id": "8778b7a415d64c5b8bc5b2eda040eb5c",
       "version_major": 2,
       "version_minor": 0
      },
      "text/plain": [
       "FloatText(value=0.0)"
      ]
     },
     "metadata": {},
     "output_type": "display_data"
    },
    {
     "name": "stdout",
     "output_type": "stream",
     "text": [
      "\n",
      "Name: column\n",
      "Info: Column name\n",
      "Type: str\n",
      "Default: CORRECTED_DATA\n"
     ]
    },
    {
     "data": {
      "application/vnd.jupyter.widget-view+json": {
       "model_id": "be66310f0c064d029da646cb7601cd5b",
       "version_major": 2,
       "version_minor": 0
      },
      "text/plain": [
       "Text(value=u'CORRECTED_DATA')"
      ]
     },
     "metadata": {},
     "output_type": "display_data"
    },
    {
     "name": "stdout",
     "output_type": "stream",
     "text": [
      "\n",
      "Name: input-column\n",
      "Info: Input column. Needed for 'mode' = 'add, subtract'.\n",
      "Type: str\n",
      "Default: DATA\n"
     ]
    },
    {
     "data": {
      "application/vnd.jupyter.widget-view+json": {
       "model_id": "f153b7a9c5c648439066e79fbd01fd5e",
       "version_major": 2,
       "version_minor": 0
      },
      "text/plain": [
       "Text(value=u'DATA')"
      ]
     },
     "metadata": {},
     "output_type": "display_data"
    },
    {
     "name": "stdout",
     "output_type": "stream",
     "text": [
      "\n",
      "Name: gain-max-period\n",
      "Info: Maximum period for direction independent gain corruption. In hours\n",
      "Type: int\n",
      "Default: 30\n"
     ]
    },
    {
     "data": {
      "application/vnd.jupyter.widget-view+json": {
       "model_id": "2c1cad49e55e4133b2083f5466fb7fbd",
       "version_major": 2,
       "version_minor": 0
      },
      "text/plain": [
       "IntText(value=30)"
      ]
     },
     "metadata": {},
     "output_type": "display_data"
    },
    {
     "name": "stdout",
     "output_type": "stream",
     "text": [
      "\n",
      "Name: gain-min-period\n",
      "Info: Minimum period for direction independent gain corruption. In hours\n",
      "Type: int\n",
      "Default: 5\n"
     ]
    },
    {
     "data": {
      "application/vnd.jupyter.widget-view+json": {
       "model_id": "a1c6060311194ad6a47aa58c78507f07",
       "version_major": 2,
       "version_minor": 0
      },
      "text/plain": [
       "IntText(value=5)"
      ]
     },
     "metadata": {},
     "output_type": "display_data"
    },
    {
     "name": "stdout",
     "output_type": "stream",
     "text": [
      "\n",
      "Name: gain-max-error\n",
      "Info: Maximum period for direction independent gain corruption. In deg\n",
      "Type: int\n",
      "Default: 1.2\n"
     ]
    },
    {
     "data": {
      "application/vnd.jupyter.widget-view+json": {
       "model_id": "59b8a003eb2349e48bcda29c7da8d139",
       "version_major": 2,
       "version_minor": 0
      },
      "text/plain": [
       "IntText(value=1)"
      ]
     },
     "metadata": {},
     "output_type": "display_data"
    },
    {
     "name": "stdout",
     "output_type": "stream",
     "text": [
      "\n",
      "Name: gain-min-error\n",
      "Info: Minimum period for direction independent gain corruption. In deg\n",
      "Type: int\n",
      "Default: 0.8\n"
     ]
    },
    {
     "data": {
      "application/vnd.jupyter.widget-view+json": {
       "model_id": "7b37c409999e461b8beb83d0bcd4427b",
       "version_major": 2,
       "version_minor": 0
      },
      "text/plain": [
       "IntText(value=0)"
      ]
     },
     "metadata": {},
     "output_type": "display_data"
    },
    {
     "name": "stdout",
     "output_type": "stream",
     "text": [
      "\n",
      "Name: phase-max-period\n",
      "Info: Maximum period for direction independent gain corruption. In hours\n",
      "Type: int\n",
      "Default: 30\n"
     ]
    },
    {
     "data": {
      "application/vnd.jupyter.widget-view+json": {
       "model_id": "6fd3a858180040888921bf87a0c87064",
       "version_major": 2,
       "version_minor": 0
      },
      "text/plain": [
       "IntText(value=30)"
      ]
     },
     "metadata": {},
     "output_type": "display_data"
    },
    {
     "name": "stdout",
     "output_type": "stream",
     "text": [
      "\n",
      "Name: phase-min-period\n",
      "Info: Minimum period for direction independent gain corruption. In hours\n",
      "Type: int\n",
      "Default: 5\n"
     ]
    },
    {
     "data": {
      "application/vnd.jupyter.widget-view+json": {
       "model_id": "68beba3e26304d648a1eb833f0119ff5",
       "version_major": 2,
       "version_minor": 0
      },
      "text/plain": [
       "IntText(value=5)"
      ]
     },
     "metadata": {},
     "output_type": "display_data"
    },
    {
     "name": "stdout",
     "output_type": "stream",
     "text": [
      "\n",
      "Name: phase-max-error\n",
      "Info: Maximum period for direction independent gain corruption. In deg\n",
      "Type: int\n",
      "Default: 1.2\n"
     ]
    },
    {
     "data": {
      "application/vnd.jupyter.widget-view+json": {
       "model_id": "6d64c1a0ac7d4418a5ab4ef672213292",
       "version_major": 2,
       "version_minor": 0
      },
      "text/plain": [
       "IntText(value=1)"
      ]
     },
     "metadata": {},
     "output_type": "display_data"
    },
    {
     "name": "stdout",
     "output_type": "stream",
     "text": [
      "\n",
      "Name: phase-min-error\n",
      "Info: Minimum period for direction independent gain corruption. In deg\n",
      "Type: int\n",
      "Default: 0.8\n"
     ]
    },
    {
     "data": {
      "application/vnd.jupyter.widget-view+json": {
       "model_id": "ceb252a0cc90492fb6fa0c60b0f60744",
       "version_major": 2,
       "version_minor": 0
      },
      "text/plain": [
       "IntText(value=0)"
      ]
     },
     "metadata": {},
     "output_type": "display_data"
    },
    {
     "name": "stdout",
     "output_type": "stream",
     "text": [
      "\n",
      "Name: Ejones\n",
      "Info: Add a primary beam model\n",
      "Type: bool\n",
      "Default: False\n"
     ]
    },
    {
     "data": {
      "application/vnd.jupyter.widget-view+json": {
       "model_id": "9a2a9a231a284a748819d2e3de2ad562",
       "version_major": 2,
       "version_minor": 0
      },
      "text/plain": [
       "Dropdown(index=1, options=(True, False), value=False)"
      ]
     },
     "metadata": {},
     "output_type": "display_data"
    },
    {
     "name": "stdout",
     "output_type": "stream",
     "text": [
      "\n",
      "Name: beam-files-pattern\n",
      "Info: Beam files pattern\n",
      "Type: file\n",
      "Default: None\n"
     ]
    },
    {
     "data": {
      "application/vnd.jupyter.widget-view+json": {
       "model_id": "23ea19c0e9304d6c9e1f7efff781a131",
       "version_major": 2,
       "version_minor": 0
      },
      "text/plain": [
       "Text(value=u'None')"
      ]
     },
     "metadata": {},
     "output_type": "display_data"
    },
    {
     "name": "stdout",
     "output_type": "stream",
     "text": [
      "\n",
      "Name: beam-type\n",
      "Info: Type of input beam files\n",
      "Type: str\n",
      "Default: fits\n"
     ]
    },
    {
     "data": {
      "application/vnd.jupyter.widget-view+json": {
       "model_id": "b8f293149e7743ae99bbb16d7faa85a5",
       "version_major": 2,
       "version_minor": 0
      },
      "text/plain": [
       "Text(value=u'fits')"
      ]
     },
     "metadata": {},
     "output_type": "display_data"
    },
    {
     "name": "stdout",
     "output_type": "stream",
     "text": [
      "\n",
      "Name: beam-l-axis\n",
      "Info: Beam l axis\n",
      "Type: str\n",
      "Default: X\n"
     ]
    },
    {
     "data": {
      "application/vnd.jupyter.widget-view+json": {
       "model_id": "788cc95561294d56a7cf127aae9744c5",
       "version_major": 2,
       "version_minor": 0
      },
      "text/plain": [
       "Text(value=u'X')"
      ]
     },
     "metadata": {},
     "output_type": "display_data"
    },
    {
     "name": "stdout",
     "output_type": "stream",
     "text": [
      "\n",
      "Name: beam-m-axis\n",
      "Info: Beam m axis\n",
      "Type: str\n",
      "Default: Y\n"
     ]
    },
    {
     "data": {
      "application/vnd.jupyter.widget-view+json": {
       "model_id": "d3a1ed7f00d542339c45af196b683880",
       "version_major": 2,
       "version_minor": 0
      },
      "text/plain": [
       "Text(value=u'Y')"
      ]
     },
     "metadata": {},
     "output_type": "display_data"
    },
    {
     "name": "stdout",
     "output_type": "stream",
     "text": [
      "\n",
      "Name: parallactic-angle-rotation\n",
      "Info: Enable parallactic angle rotation. Enable if telescope mount is ALT-AZ\n",
      "Type: bool\n",
      "Default: False\n"
     ]
    },
    {
     "data": {
      "application/vnd.jupyter.widget-view+json": {
       "model_id": "092ae58265d94a86bc1bd3d796f73749",
       "version_major": 2,
       "version_minor": 0
      },
      "text/plain": [
       "Dropdown(index=1, options=(True, False), value=False)"
      ]
     },
     "metadata": {},
     "output_type": "display_data"
    },
    {
     "name": "stdout",
     "output_type": "stream",
     "text": [
      "\n",
      "Name: pointing-accuracy\n",
      "Info: Pointing accuracy in arcsec. If set to non-zero value, will introduce pointing errors into simulation\n",
      "Type: float\n",
      "Default: 0\n"
     ]
    },
    {
     "data": {
      "application/vnd.jupyter.widget-view+json": {
       "model_id": "42c7f80adf114cf68597ca5444751543",
       "version_major": 2,
       "version_minor": 0
      },
      "text/plain": [
       "FloatText(value=0.0)"
      ]
     },
     "metadata": {},
     "output_type": "display_data"
    },
    {
     "name": "stdout",
     "output_type": "stream",
     "text": [
      "\n"
     ]
    }
   ],
   "source": [
    "c = DATA[cab.value]\n",
    "print(c['description'])\n",
    "print('')\n",
    "params = c['parameters']\n",
    "PAR = dict()\n",
    "for param in params:\n",
    "    #PAR = dict()\n",
    "    print(\"Name: \" + str(param['name']))\n",
    "    print(\"Info: \" + str(param['info']))\n",
    "    print(\"Type: \" + str(param['dtype']))\n",
    "    if 'default' in param:\n",
    "        print \"Default: \" + str(param['default'])\n",
    "    if 'required' in param:\n",
    "        print \"Required: \" + str(param['required'])\n",
    "    if param['dtype'] in ['str', 'file', 'list:str', #'list:int',\n",
    "                          'list:file', 'list:float', 'list:list'] or param['default'] == None:\n",
    "        PAR[param['name']] = widgets.Text(value=str(param['default']) if 'default' in param else '')\n",
    "    elif param['dtype'] in ['list:int'] and param['default'] != None:\n",
    "        PAR[param['name']] = widgets.IntText(value=param['default'] if 'default' in param else None)\n",
    "    elif type(param['dtype']) is list:\n",
    "        PAR[param['name']] = widgets.Textarea(value=str(param['default']) if 'default' in param else '')\n",
    "    elif param['dtype'] in ['int'] and param['default'] != None:\n",
    "        PAR[param['name']] = widgets.IntText(value=param['default'] if 'default' in param else None)\n",
    "    elif param['dtype'] in ['float'] and param['default'] != None:\n",
    "        PAR[param['name']] = widgets.FloatText(value=param['default'] if 'default' in param else None)\n",
    "    elif param['dtype'] in ['bool']:\n",
    "        PAR[param['name']] = widgets.Dropdown(options=[True, False],\n",
    "                                              value=bool(param['default']))# if 'default' in param else '')\n",
    "    display(PAR[param['name']])\n",
    "    print('')"
   ]
  },
  {
   "cell_type": "code",
   "execution_count": 15,
   "metadata": {},
   "outputs": [
    {
     "name": "stdout",
     "output_type": "stream",
     "text": [
      "Note: 0 means append at the end\n"
     ]
    },
    {
     "data": {
      "application/vnd.jupyter.widget-view+json": {
       "model_id": "b41d5d9666d3478fa1c490787fb1b9d1",
       "version_major": 2,
       "version_minor": 0
      },
      "text/plain": [
       "BoundedIntText(value=0, description=u'Cab Number:')"
      ]
     },
     "metadata": {},
     "output_type": "display_data"
    }
   ],
   "source": [
    "cab_number = widgets.BoundedIntText(\n",
    "    value=0,\n",
    "    min=0,\n",
    "    max=100,\n",
    "    step=1,\n",
    "    description='Cab Number:',\n",
    "    disabled=False\n",
    ")\n",
    "print(\"Note: 0 means append at the end\")\n",
    "display(cab_number)"
   ]
  },
  {
   "cell_type": "code",
   "execution_count": 16,
   "metadata": {
    "extensions": {
     "jupyter_dashboards": {
      "version": 1,
      "views": {
       "grid_default": {},
       "report_default": {}
      }
     }
    }
   },
   "outputs": [
    {
     "data": {
      "application/vnd.jupyter.widget-view+json": {
       "model_id": "7fccb57c10874a398fa58d86c7c61191",
       "version_major": 2,
       "version_minor": 0
      },
      "text/plain": [
       "Button(description=u'ADD', style=ButtonStyle())"
      ]
     },
     "metadata": {},
     "output_type": "display_data"
    },
    {
     "data": {
      "application/javascript": [
       "IPython.notebook.execute_cell_range(IPython.notebook.get_selected_index()+1,IPython.notebook.get_selected_index()+3)"
      ],
      "text/plain": [
       "<IPython.core.display.Javascript object>"
      ]
     },
     "metadata": {},
     "output_type": "display_data"
    }
   ],
   "source": [
    "def run_all(ev):\n",
    "    # Runn all cells\n",
    "    #display(Javascript('IPython.notebook.execute_cells_below()'))\n",
    "    display(Javascript('IPython.notebook.execute_cell_range(IPython.notebook.get_selected_index()+1,'\n",
    "                       'IPython.notebook.get_selected_index()+3)'))\n",
    "\n",
    "button = widgets.Button(description=\"ADD\")\n",
    "button.on_click(run_all)\n",
    "display(button)\n",
    "\n",
    "cab_params = {}"
   ]
  },
  {
   "cell_type": "code",
   "execution_count": 17,
   "metadata": {},
   "outputs": [
    {
     "name": "stdout",
     "output_type": "stream",
     "text": [
      "2019-05-27 12:42:57,878 - STIMELA - INFO - Adding cab 'aramaila_cab/simulator' to recipe. The container will be named '2_generate_data'\n"
     ]
    },
    {
     "name": "stderr",
     "output_type": "stream",
     "text": [
      "INFO:STIMELA:Adding cab 'aramaila_cab/simulator' to recipe. The container will be named '2_generate_data'\n"
     ]
    }
   ],
   "source": [
    "cab_num = cab_number.value\n",
    "cab_func_name = cab.value\n",
    "cab_func = getattr(drastic, cab_func_name, None)\n",
    "for key, val in PAR.items():\n",
    "    if val.value in ['None']:\n",
    "        continue\n",
    "    if val.value is str and '\\n' in val.value:\n",
    "        cab_params[key] = val.value.split('\\n')\n",
    "    ##temp fix since the type must be int\n",
    "    elif key in ['sigma']:\n",
    "        cab_params[key] = int(val.value)\n",
    "    else:\n",
    "        for param in params:\n",
    "            if param['dtype'] in ['int'] and param['name'] == key:\n",
    "                cab_params[key] = int(val.value)\n",
    "                continue\n",
    "            elif param['dtype'] in ['float'] and param['name'] == key:\n",
    "                cab_params[key] = float(val.value)\n",
    "                continue\n",
    "            elif type(param['dtype']) is list and param['name'] == key:\n",
    "                for p in param['dtype']:\n",
    "                    try:\n",
    "                        if p in ['int']:\n",
    "                            cab_params[key] = int(val.value)\n",
    "                        #elif p in ['float']:\n",
    "                        #    cab_params[key] = float(val.value)\n",
    "                        elif type(val.value) is unicode:\n",
    "                            cab_params[key] = str(val.value)\n",
    "                    except ValueError:\n",
    "                        cab_params[key] = str(val.value)\n",
    "                continue\n",
    "            elif type(val.value) is unicode and param['name'] == key:\n",
    "                cab_params[key] = str(val.value)\n",
    "                continue\n",
    "            else:\n",
    "                if param['name'] == key:\n",
    "                    cab_params[key] = val.value\n",
    "cab_func(recipe, num=cab_num, parameters=cab_params, recipes_file=recipe_file.value)"
   ]
  },
  {
   "cell_type": "code",
   "execution_count": 18,
   "metadata": {
    "extensions": {
     "jupyter_dashboards": {
      "version": 1,
      "views": {
       "grid_default": {},
       "report_default": {}
      }
     }
    }
   },
   "outputs": [
    {
     "data": {
      "application/vnd.jupyter.widget-view+json": {
       "model_id": "3b86258f329840cfa6c2efe0e9345d34",
       "version_major": 2,
       "version_minor": 0
      },
      "text/plain": [
       "Button(description=u'RUN ALL', style=ButtonStyle())"
      ]
     },
     "metadata": {},
     "output_type": "display_data"
    },
    {
     "data": {
      "application/javascript": [
       "IPython.notebook.execute_cell_range(IPython.notebook.get_selected_index()+1,IPython.notebook.get_selected_index()+2)"
      ],
      "text/plain": [
       "<IPython.core.display.Javascript object>"
      ]
     },
     "metadata": {},
     "output_type": "display_data"
    }
   ],
   "source": [
    "#%load_ext jupyternotify\n",
    "\n",
    "def run_all(ev):\n",
    "    # Runn all cells\n",
    "    #display(Javascript('IPython.notebook.execute_cells_below()'))\n",
    "    display(Javascript('IPython.notebook.execute_cell_range(IPython.notebook.get_selected_index()+1,'\n",
    "                       'IPython.notebook.get_selected_index()+2)'))\n",
    "\n",
    "button = widgets.Button(description=\"RUN ALL\")\n",
    "button.on_click(run_all)\n",
    "display(button)"
   ]
  },
  {
   "cell_type": "code",
   "execution_count": 19,
   "metadata": {
    "extensions": {
     "jupyter_dashboards": {
      "version": 1,
      "views": {
       "grid_default": {},
       "report_default": {}
      }
     }
    },
    "scrolled": false
   },
   "outputs": [
    {
     "name": "stdout",
     "output_type": "stream",
     "text": [
      "2019-05-27 12:43:01,480 - STIMELA - INFO - Running job 2_generate_data\n"
     ]
    },
    {
     "name": "stderr",
     "output_type": "stream",
     "text": [
      "INFO:STIMELA:Running job 2_generate_data\n"
     ]
    },
    {
     "name": "stdout",
     "output_type": "stream",
     "text": [
      "2019-05-27 12:43:01,483 - STIMELA - INFO - STEP 1 :: 2_Generate_data:: simulating data\n"
     ]
    },
    {
     "name": "stderr",
     "output_type": "stream",
     "text": [
      "INFO:STIMELA:STEP 1 :: 2_Generate_data:: simulating data\n",
      "INFO:root:Validating parameters...       CAB = simulator\n",
      "INFO:root:Parameters validated and saved. Parameter file is: stimela_parameter_files/2_generate_data-139860549527568155896097784.json\n"
     ]
    },
    {
     "name": "stdout",
     "output_type": "stream",
     "text": [
      "['meerkat_PointSourceRecovery.ms']\n",
      "['point_skymodel.txt']\n",
      "2019-05-27 12:43:01,494 - STIMELA - INFO - Instantiating container [2_generate_data-139860549527568155896097784]. The container ID is printed below.\n"
     ]
    },
    {
     "name": "stderr",
     "output_type": "stream",
     "text": [
      "INFO:STIMELA:Instantiating container [2_generate_data-139860549527568155896097784]. The container ID is printed below.\n"
     ]
    },
    {
     "name": "stdout",
     "output_type": "stream",
     "text": [
      "Running: docker create --user 2053:2053  -v /home/aramaila/gitPackages/Stimela/stimela:/scratch/stimela:ro -v /scratch1/aramaila/Drastic/drastic/stimela_parameter_files:/configs:ro -v /scratch1/aramaila/Drastic/drastic/msdir:/home/aramaila/msdir:rw -v /scratch1/aramaila/Drastic/drastic/input:/input:ro -v /scratch1/aramaila/Drastic/drastic/output:/home/aramaila/output:rw -v /scratch1/aramaila/Drastic/drastic/output/log-2_generate_data.txt:/home/aramaila/output/log-2_generate_data.txt:rw  -e CONFIG=/configs/2_generate_data-139860549527568155896097784.json -e MSDIR=/home/aramaila/msdir -e INPUT=/input -e HOME=/home/aramaila/output -e OUTPUT=/home/aramaila/output -e LOGFILE=/home/aramaila/output/log-2_generate_data.txt  --name 2_generate_data-139860549527568155896097784 --shm-size 1gb aramaila_cab/simulator \n",
      "b8a02cebca5d816a761fc886e70cb1a92918f796cc6c486e565e97dfea0336f7\n",
      "\n",
      "2019-05-27 12:43:02,621 - STIMELA - INFO - Starting container [2_generate_data-139860549527568155896097784]. Timeout set to -1. The container ID is printed below.\n"
     ]
    },
    {
     "name": "stderr",
     "output_type": "stream",
     "text": [
      "INFO:STIMELA:Starting container [2_generate_data-139860549527568155896097784]. Timeout set to -1. The container ID is printed below.\n"
     ]
    },
    {
     "name": "stdout",
     "output_type": "stream",
     "text": [
      "Running: docker start -a 2_generate_data-139860549527568155896097784\n",
      "Successful readonly open of default-locked table /home/aramaila/msdir/meerkat_PointSourceRecovery.ms: 24 columns, 1451520 rows\n",
      "Successful readonly open of default-locked table /home/aramaila/msdir/meerkat_PointSourceRecovery.ms/SPECTRAL_WINDOW: 14 columns, 1 rows\n",
      ">>> /home/aramaila/msdir/meerkat_PointSourceRecovery.ms freq 1420.00 MHz (lambda=0.21m), bandwidth 2e+03 kHz, 30.00s integrations, 5.99h synthesis\n",
      ">>> SEFD of 551.00 Jy gives per-visibility noise of 50.30 mJy\n",
      "Running: meqtree-pipeliner.py  --mt 4 -c /scratch/code//tdlconf.profiles [sim] ms_sel.input_column=DATA ms_sel.field_index=0 ms_sel.msname=/home/aramaila/msdir/meerkat_PointSourceRecovery.ms me.sky.tiggerskymodel=1 me.use_smearing=1 sim_mode=\"sim only\" noise_stddev=0.0502991881976 ms_sel.ddid_index=0 ms_sel.tile_size=1 tiggerlsm.filename=/input/point_skymodel.txt ms_sel.output_column=CORRECTED_DATA /usr/local/lib/python2.7/dist-packages/Cattery/Siamese/turbo-sim.py =_simulate_MS\n",
      "/usr/local/lib/python2.7/dist-packages/pyfits/__init__.py:22: PyFITSDeprecationWarning: PyFITS is deprecated, please use astropy.io.fits\n",
      "  PyFITSDeprecationWarning)  # noqa\n",
      "/usr/lib/python2.7/dist-packages/matplotlib/font_manager.py:273: UserWarning: Matplotlib is building the font cache using fc-list. This may take a moment.\n",
      "  warnings.warn('Matplotlib is building the font cache using fc-list. This may take a moment.')\n",
      "3.2Gb lsmformats(ASCII.py:258:load): Set default freq0 to 1420000000.0 from source on line 2.\n",
      "### Starting meqserver\n",
      "### Attaching to configuration file /scratch/code//tdlconf.profiles\n",
      "### Loading config section sim\n",
      "### Setting option ms_sel.input_column=DATA\n",
      "### Setting option ms_sel.field_index=0\n",
      "### Setting option ms_sel.msname=/home/aramaila/msdir/meerkat_PointSourceRecovery.ms\n",
      "### Setting option me.sky.tiggerskymodel=1\n",
      "### Setting option me.use_smearing=1\n",
      "### Setting option sim_mode=sim only\n",
      "### Setting option noise_stddev=0.0502991881976\n",
      "### Setting option ms_sel.ddid_index=0\n",
      "### Setting option ms_sel.tile_size=1\n",
      "### Setting option tiggerlsm.filename=/input/point_skymodel.txt\n",
      "### Setting option ms_sel.output_column=CORRECTED_DATA\n",
      "### Compiling /usr/local/lib/python2.7/dist-packages/Cattery/Siamese/turbo-sim.py\n",
      "### (using previously set options)\n",
      "  (Meow.MSUtils: found /usr/bin/lwimager, can use it for imaging.)\n",
      "  (Meow.MSUtils: found image viewer /usr/local/bin/tigger)\n",
      "Successful readonly open of autonoread-locked table /home/aramaila/msdir/meerkat_PointSourceRecovery.ms: 24 columns, 1451520 rows\n",
      "Successful readonly open of autonoread-locked table /home/aramaila/msdir/meerkat_PointSourceRecovery.ms/ANTENNA: 8 columns, 64 rows\n",
      "Successful readonly open of default-locked table /home/aramaila/msdir/meerkat_PointSourceRecovery.ms/OBSERVATION: 9 columns, 1 rows\n",
      "Successful readonly open of autonoread-locked table /home/aramaila/msdir/meerkat_PointSourceRecovery.ms/POLARIZATION: 4 columns, 1 rows\n",
      "Successful readonly open of autonoread-locked table /home/aramaila/msdir/meerkat_PointSourceRecovery.ms/DATA_DESCRIPTION: 3 columns, 1 rows\n",
      "Successful readonly open of autonoread-locked table /home/aramaila/msdir/meerkat_PointSourceRecovery.ms/SPECTRAL_WINDOW: 14 columns, 1 rows\n",
      "Successful readonly open of autonoread-locked table /home/aramaila/msdir/meerkat_PointSourceRecovery.ms/FIELD: 9 columns, 1 rows\n",
      "Using LSM module from Tigger (1.4.2) 1.4.2 at /usr/local/lib/python2.7/dist-packages/Tigger (in path)\n",
      "Successful readonly open of default-locked table /home/aramaila/msdir/meerkat_PointSourceRecovery.ms: 24 columns, 1451520 rows\n",
      "Successful readonly open of default-locked table /home/aramaila/msdir/meerkat_PointSourceRecovery.ms: 24 columns, 1451520 rows\n",
      "Successful readonly open of default-locked table /home/aramaila/msdir/meerkat_PointSourceRecovery.ms: 24 columns, 1451520 rows\n",
      "Successful readonly open of default-locked table /home/aramaila/msdir/meerkat_PointSourceRecovery.ms: 24 columns, 1451520 rows\n",
      "Loading /input/point_skymodel.txt: ASCII table\n",
      "###  TDL script successfully compiled. 12707 node definitions\n",
      "  (of which 3 are root nodes) sent to meqserver.\n",
      "### Running TDL job \"_simulate_MS\"\n",
      "WARNING: unable to determine delta-UVW in tile Vis_Data_0_0_0_0_1_0, setting to 0.\n",
      "3.4Gb meqserver(meqserver.py:288:stop_default_mqs): meqserver not exited yet, waiting another 10 seconds\n",
      "### Job result: None\n",
      "### No more commands\n",
      "### Stopping the meqserver\n",
      "### All your batch are belong to us. Bye!\n",
      "\n",
      "\n",
      "2019-05-27 13:53:06,284 - STIMELA - INFO - Container [2_generate_data-139860549527568155896097784] has executed successfully\n"
     ]
    },
    {
     "name": "stderr",
     "output_type": "stream",
     "text": [
      "INFO:STIMELA:Container [2_generate_data-139860549527568155896097784] has executed successfully\n"
     ]
    },
    {
     "name": "stdout",
     "output_type": "stream",
     "text": [
      "2019-05-27 13:53:06,289 - STIMELA - INFO - Runtime was 1:10:03.775368.\n"
     ]
    },
    {
     "name": "stderr",
     "output_type": "stream",
     "text": [
      "INFO:STIMELA:Runtime was 1:10:03.775368.\n"
     ]
    },
    {
     "name": "stdout",
     "output_type": "stream",
     "text": [
      "2019-05-27 13:53:06,366 - STIMELA - INFO - Container 2_generate_data-139860549527568155896097784 has been stopped.\n"
     ]
    },
    {
     "name": "stderr",
     "output_type": "stream",
     "text": [
      "INFO:STIMELA:Container 2_generate_data-139860549527568155896097784 has been stopped.\n"
     ]
    },
    {
     "name": "stdout",
     "output_type": "stream",
     "text": [
      "Running: docker rm 2_generate_data-139860549527568155896097784\n",
      "2_generate_data-139860549527568155896097784\n",
      "\n",
      "2019-05-27 13:53:07,450 - STIMELA - INFO - Saving pipeline information in .last_make_pipeline.json\n"
     ]
    },
    {
     "name": "stderr",
     "output_type": "stream",
     "text": [
      "INFO:STIMELA:Saving pipeline information in .last_make_pipeline.json\n"
     ]
    },
    {
     "name": "stdout",
     "output_type": "stream",
     "text": [
      "2019-05-27 13:53:07,454 - STIMELA - INFO - Recipe executed successfully\n"
     ]
    },
    {
     "name": "stderr",
     "output_type": "stream",
     "text": [
      "INFO:STIMELA:Recipe executed successfully\n"
     ]
    }
   ],
   "source": [
    "drastic.run_all(recipe)"
   ]
  },
  {
   "cell_type": "code",
   "execution_count": null,
   "metadata": {},
   "outputs": [],
   "source": [
    "def run_all(ev):\n",
    "    # Runn all cells\n",
    "    #display(Javascript('IPython.notebook.execute_cells_below()'))\n",
    "    display(Javascript('IPython.notebook.execute_cell_range(IPython.notebook.get_selected_index()+1,'\n",
    "                       'IPython.notebook.get_selected_index()+3)'))\n",
    "\n",
    "button = widgets.Button(description=\"Load\")\n",
    "button.on_click(run_all)\n",
    "display(button)"
   ]
  },
  {
   "cell_type": "code",
   "execution_count": null,
   "metadata": {},
   "outputs": [],
   "source": [
    "data = drastic.get_data(recipe_file.value)"
   ]
  },
  {
   "cell_type": "code",
   "execution_count": null,
   "metadata": {},
   "outputs": [],
   "source": [
    "cab1 = widgets.Dropdown(\n",
    "    options=data.keys(),\n",
    "    description='Task:',\n",
    "    disabled=False)\n",
    "display(cab1)"
   ]
  },
  {
   "cell_type": "code",
   "execution_count": null,
   "metadata": {},
   "outputs": [],
   "source": [
    "def run_all(ev):\n",
    "    # Runn all cells\n",
    "    #display(Javascript('IPython.notebook.execute_cells_below()'))\n",
    "    display(Javascript('IPython.notebook.execute_cell_range(IPython.notebook.get_selected_index()+1,'\n",
    "                       'IPython.notebook.get_selected_index()+3)'))\n",
    "\n",
    "button = widgets.Button(description=\"SELECT\")\n",
    "button.on_click(run_all)\n",
    "display(button)"
   ]
  },
  {
   "cell_type": "code",
   "execution_count": null,
   "metadata": {
    "scrolled": false
   },
   "outputs": [],
   "source": [
    "cab_value = cab1.value\n",
    "saved_cab_params = data[cab_value]\n",
    "num = cab_value.split('_')[0]\n",
    "c = DATA[cab_value.split(num + '_')[-1]]\n",
    "print(c['description'])\n",
    "print('')\n",
    "params = c['parameters']\n",
    "PAR = dict()\n",
    "for param in params:\n",
    "    print(\"Name: \" + str(param['name']))\n",
    "    print(\"Info: \" + str(param['info']))\n",
    "    print(\"Type: \" + str(param['dtype']))\n",
    "    if 'default' in param:\n",
    "        print \"Default: \" + str(param['default'])\n",
    "    if 'required' in param:\n",
    "        print \"Required: \" + str(param['required'])\n",
    "    if param['dtype'] in ['str', 'file', 'list:str', #'list:int',\n",
    "                          'list:file', 'list:float', 'list:list'] or param['default'] == None:\n",
    "        PAR[param['name']] = widgets.Text(value=str(saved_cab_params[param['name']])\n",
    "                                          if param['name'] in saved_cab_params else '')\n",
    "    elif type(param['dtype']) is list:\n",
    "        for par in param['dtype']:\n",
    "            if par in ['int']:\n",
    "                PAR[param['name']] = widgets.IntText(value=saved_cab_params[param['name']]\n",
    "                                             if param['name'] in saved_cab_params else None)\n",
    "            #elif par in ['float']:\n",
    "            #    PAR[param['name']] = widgets.FloatText(value=saved_cab_params[param['name']]\n",
    "            #                                   if param['name'] in saved_cab_params else None)\n",
    "            else:\n",
    "                PAR[param['name']] = widgets.Textarea(value=str(str(saved_cab_params[param['name']])\n",
    "                                                        if param['name'] in saved_cab_params else ''))\n",
    "    elif param['dtype'] in ['list:int'] and param['default'] != None:\n",
    "        PAR[param['name']] = widgets.IntText(value=saved_cab_params[param['name']]\n",
    "                                             if param['name'] in saved_cab_params else None)\n",
    "    elif param['dtype'] in ['int'] and param['default'] != None:\n",
    "        PAR[param['name']] = widgets.IntText(value=saved_cab_params[param['name']]\n",
    "                                             if param['name'] in saved_cab_params else None)\n",
    "    elif param['dtype'] in ['float'] and param['default'] != None:\n",
    "        PAR[param['name']] = widgets.FloatText(value=saved_cab_params[param['name']]\n",
    "                                               if param['name'] in saved_cab_params else None)\n",
    "    elif param['dtype'] in ['bool']:\n",
    "        PAR[param['name']] = widgets.Dropdown(options=[True, False],\n",
    "                                              value=bool(saved_cab_params[param['name']])\n",
    "                                              if param['name'] in saved_cab_params else bool(param['default']))\n",
    "    display(PAR[param['name']])\n",
    "    print('')"
   ]
  },
  {
   "cell_type": "code",
   "execution_count": null,
   "metadata": {},
   "outputs": [],
   "source": [
    "def run_all(ev):\n",
    "    # Runn all cells\n",
    "    #display(Javascript('IPython.notebook.execute_cells_below()'))\n",
    "    display(Javascript('IPython.notebook.execute_cell_range(IPython.notebook.get_selected_index()+1,'\n",
    "                       'IPython.notebook.get_selected_index()+3)'))\n",
    "\n",
    "button = widgets.Button(description=\"ADD\")\n",
    "button.on_click(run_all)\n",
    "display(button)\n",
    "\n",
    "cab_params = {}"
   ]
  },
  {
   "cell_type": "code",
   "execution_count": null,
   "metadata": {},
   "outputs": [],
   "source": [
    "cab_value = cab1.value\n",
    "saved_cab_params = data[cab_value]\n",
    "cab_num = int(cab_value.split('_')[0])\n",
    "cab_func_name = cab_value.split(num + '_')[-1]\n",
    "\n",
    "c = DATA[cab_func_name]\n",
    "params = c['parameters']\n",
    "\n",
    "cab_func = getattr(drastic, cab_func_name, None)\n",
    "for key, val in PAR.items():\n",
    "    if val.value in ['None', '']:\n",
    "        continue\n",
    "    if val.value is str and '\\n' in val.value:\n",
    "        cab_params[key] = val.value.split('\\n')\n",
    "    ##temp fix since the type must be int\n",
    "    elif key in ['sigma']:\n",
    "        cab_params[key] = int(val.value)\n",
    "    elif type(val.value) is unicode:\n",
    "        cab_params[key] = str(val.value)\n",
    "    else:\n",
    "        cab_params[key] = val.value\n",
    "cab_func(recipe, num=cab_num, parameters=cab_params)"
   ]
  },
  {
   "cell_type": "code",
   "execution_count": null,
   "metadata": {},
   "outputs": [],
   "source": [
    "#%load_ext jupyternotify\n",
    "\n",
    "def run_all(ev):\n",
    "    # Runn all cells\n",
    "    #display(Javascript('IPython.notebook.execute_cells_below()'))\n",
    "    display(Javascript('IPython.notebook.execute_cell_range(IPython.notebook.get_selected_index()+1,'\n",
    "                       'IPython.notebook.get_selected_index()+2)'))\n",
    "\n",
    "button = widgets.Button(description=\"RUN ALL\")\n",
    "button.on_click(run_all)\n",
    "display(button)"
   ]
  },
  {
   "cell_type": "code",
   "execution_count": null,
   "metadata": {},
   "outputs": [],
   "source": [
    "drastic.run_all(recipe)"
   ]
  },
  {
   "cell_type": "code",
   "execution_count": null,
   "metadata": {},
   "outputs": [],
   "source": [
    "def run_all(ev):\n",
    "    # Runn all cells\n",
    "    #display(Javascript('IPython.notebook.execute_cells_below()'))\n",
    "    display(Javascript('IPython.notebook.execute_cell_range(IPython.notebook.get_selected_index()+1,'\n",
    "                       'IPython.notebook.get_selected_index()+3)'))\n",
    "\n",
    "button = widgets.Button(description=\"LOAD\")\n",
    "button.on_click(run_all)\n",
    "display(button)"
   ]
  },
  {
   "cell_type": "code",
   "execution_count": null,
   "metadata": {},
   "outputs": [],
   "source": [
    "cb_cont = widgets.HBox(background_color='red',height='100px',width='100%')\n",
    "Im = []\n",
    "for dk in sorted(data):\n",
    "    Im.append(widgets.Checkbox(description=dk,value=True,width=50))\n",
    "cb_cont.children=[i for i in Im]\n",
    "display(cb_cont)"
   ]
  },
  {
   "cell_type": "code",
   "execution_count": null,
   "metadata": {},
   "outputs": [],
   "source": [
    "def run_all(ev):\n",
    "    # Runn all cells\n",
    "    #display(Javascript('IPython.notebook.execute_cells_below()'))\n",
    "    display(Javascript('IPython.notebook.execute_cell_range(IPython.notebook.get_selected_index()+1,'\n",
    "                       'IPython.notebook.get_selected_index()+2)'))\n",
    "\n",
    "button = widgets.Button(description=\"RUN ALL\")\n",
    "button.on_click(run_all)\n",
    "display(button)"
   ]
  },
  {
   "cell_type": "code",
   "execution_count": null,
   "metadata": {},
   "outputs": [],
   "source": [
    "recipe.jobs = []\n",
    "data = drastic.get_data(recipe_file.value)\n",
    "for cab_value, cab_params in data.items():\n",
    "    cab_num = cab_value.split('_')[0]\n",
    "    cab_func_name = cab_value.split(cab_num + '_')[-1]\n",
    "    cab_func = getattr(drastic, cab_func_name, None)\n",
    "    for c in cb_cont.children:\n",
    "        if c.description == cab_value:\n",
    "            if c.value:\n",
    "                cab_func(recipe, num=cab_num, parameters=cab_params)\n",
    "drastic.run_all(recipe)"
   ]
  }
 ],
 "metadata": {
  "extensions": {
   "jupyter_dashboards": {
    "activeView": "grid_default",
    "version": 1,
    "views": {
     "grid_default": {
      "cellMargin": 10,
      "defaultCellHeight": 20,
      "maxColumns": 12,
      "name": "grid",
      "type": "grid"
     },
     "report_default": {
      "name": "report",
      "type": "report"
     }
    }
   }
  },
  "kernelspec": {
   "display_name": "Python 2",
   "language": "python",
   "name": "python2"
  },
  "language_info": {
   "codemirror_mode": {
    "name": "ipython",
    "version": 2
   },
   "file_extension": ".py",
   "mimetype": "text/x-python",
   "name": "python",
   "nbconvert_exporter": "python",
   "pygments_lexer": "ipython2",
   "version": "2.7.12"
  }
 },
 "nbformat": 4,
 "nbformat_minor": 2
}

{
 "cells": [
  {
   "cell_type": "code",
   "execution_count": null,
   "metadata": {},
   "outputs": [],
   "source": [
    "!mkdir msdir\n",
    "!mkdir input\n",
    "!mkdir ouput"
   ]
  },
  {
   "cell_type": "code",
   "execution_count": null,
   "metadata": {},
   "outputs": [],
   "source": [
    "import stimela\n",
    "import drastic"
   ]
  },
  {
   "cell_type": "code",
   "execution_count": null,
   "metadata": {},
   "outputs": [],
   "source": [
    "from ipywidgets import widgets, interact"
   ]
  },
  {
   "cell_type": "code",
   "execution_count": null,
   "metadata": {},
   "outputs": [],
   "source": [
    "def generate_data():\n",
    "    ms_f = widgets.Text(\n",
    "        value='',\n",
    "        placeholder='meerkat_SourceRecovery.ms',\n",
    "        description='MS file:',\n",
    "        disabled=False\n",
    "    )\n",
    "    ref_freq = widgets.Text(\n",
    "        value='1.42GHz',\n",
    "        placeholder='1.42GHz',\n",
    "        description='Ref Freq (incl units):',\n",
    "        disabled=False\n",
    "    )\n",
    "    noise_psf_weight = widgets.Checkbox(\n",
    "        value=False,\n",
    "        description='Run noise-psf vs briggs',\n",
    "        disabled=False\n",
    "    )\n",
    "    gen_data = widgets.Checkbox(\n",
    "        value=True,\n",
    "        description='Simulate Data',\n",
    "        disabled=False\n",
    "    )\n",
    "    add_ns = widgets.Checkbox(\n",
    "        value=True,\n",
    "        description='Add noise',\n",
    "        disabled=False\n",
    "    )\n",
    "    add_smearing = widgets.Checkbox(\n",
    "        value=False,\n",
    "        description='Add smearing',\n",
    "        disabled=False\n",
    "    )\n",
    "    chans_in = widgets.IntSlider(\n",
    "        value=16,\n",
    "        min=1,\n",
    "        max=64,\n",
    "        step=1,\n",
    "        description='Channels:',\n",
    "        disabled=False,\n",
    "        continuous_update=False,\n",
    "        orientation='horizontal',\n",
    "        readout=True,\n",
    "        readout_format='d'\n",
    "    )\n",
    "    sefd = widgets.IntSlider(\n",
    "        value=551,\n",
    "        min=0,\n",
    "        max=1000,\n",
    "        step=1,\n",
    "        description='SEFD (Jy):',\n",
    "        disabled=False,\n",
    "        continuous_update=False,\n",
    "        orientation='horizontal',\n",
    "        readout=True,\n",
    "        readout_format='d'\n",
    "    )\n",
    "    tel_name = widgets.Dropdown(\n",
    "        options=['meerkat', 'vla', 'wsrt', 'kat7'],\n",
    "        value='meerkat',\n",
    "        description='Telescope:',\n",
    "        disabled=False\n",
    "    )\n",
    "    synthesis_t = widgets.FloatSlider(\n",
    "        value=6,\n",
    "        min=0,\n",
    "        max=100,\n",
    "        step=0.5,\n",
    "        description='Synthesis Time (hr):',\n",
    "        disabled=False,\n",
    "        continuous_update=False,\n",
    "        orientation='horizontal',\n",
    "        readout=True,\n",
    "        readout_format='.1f'\n",
    "    )\n",
    "    integration_t = widgets.FloatSlider(\n",
    "        value=60,\n",
    "        min=0,\n",
    "        max=1000,\n",
    "        step=1,\n",
    "        description='Integration Time (s):',\n",
    "        disabled=False,\n",
    "        continuous_update=False,\n",
    "        orientation='horizontal',\n",
    "        readout=True,\n",
    "        readout_format='d'\n",
    "    )\n",
    "    return (noise_psf_weight,ms_f,tel_name,gen_data,add_ns,add_smearing,\n",
    "            ref_freq,chans_in,sefd,synthesis_t,integration_t)"
   ]
  },
  {
   "cell_type": "code",
   "execution_count": null,
   "metadata": {},
   "outputs": [],
   "source": [
    "for w in generate_data():\n",
    "    display(w)"
   ]
  }
 ],
 "metadata": {
  "kernelspec": {
   "display_name": "Python 2",
   "language": "python",
   "name": "python2"
  },
  "language_info": {
   "codemirror_mode": {
    "name": "ipython",
    "version": 2
   },
   "file_extension": ".py",
   "mimetype": "text/x-python",
   "name": "python",
   "nbconvert_exporter": "python",
   "pygments_lexer": "ipython2",
   "version": "2.7.6"
  }
 },
 "nbformat": 4,
 "nbformat_minor": 2
}

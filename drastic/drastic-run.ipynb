{
 "cells": [
  {
   "cell_type": "code",
   "execution_count": null,
   "metadata": {
    "extensions": {
     "jupyter_dashboards": {
      "version": 1,
      "views": {
       "grid_default": {},
       "report_default": {}
      }
     }
    }
   },
   "outputs": [],
   "source": [
    "# Don't change the names\n",
    "!mkdir msdir\n",
    "!mkdir input\n",
    "!mkdir output"
   ]
  },
  {
   "cell_type": "code",
   "execution_count": null,
   "metadata": {
    "extensions": {
     "jupyter_dashboards": {
      "version": 1,
      "views": {
       "grid_default": {},
       "report_default": {}
      }
     }
    }
   },
   "outputs": [],
   "source": [
    "import json\n",
    "import stimela\n",
    "import drastic\n",
    "import pkg_resources\n",
    "from drastic import natural_keys\n",
    "from ipywidgets import widgets, interact\n",
    "from IPython.display import Javascript"
   ]
  },
  {
   "cell_type": "code",
   "execution_count": null,
   "metadata": {
    "extensions": {
     "jupyter_dashboards": {
      "version": 1,
      "views": {
       "grid_default": {},
       "report_default": {}
      }
     }
    }
   },
   "outputs": [],
   "source": [
    "def run_all(ev):\n",
    "    # Runn all cells\n",
    "    #display(Javascript('IPython.notebook.execute_cells_below()'))\n",
    "    display(Javascript('IPython.notebook.execute_cell_range(IPython.notebook.get_selected_index()+1,'\n",
    "                       'IPython.notebook.get_selected_index()+4)'))\n",
    "\n",
    "button = widgets.Button(description=\"Configure\")\n",
    "button.on_click(run_all)\n",
    "display(button)\n",
    "\n",
    "from IPython.display import HTML\n",
    "\n",
    "HTML('''<script>\n",
    "code_show=true; \n",
    "function code_toggle() {\n",
    " if (code_show){\n",
    " $('div.input').hide();\n",
    " } else {\n",
    " $('div.input').show();\n",
    " }\n",
    " code_show = !code_show\n",
    "} \n",
    "$( document ).ready(code_toggle);\n",
    "</script>\n",
    "<form action=\"javascript:code_toggle()\"><input type=\"submit\"\n",
    "value=\"Click here to toggle on/off the raw code.\"></form>''')"
   ]
  },
  {
   "cell_type": "code",
   "execution_count": null,
   "metadata": {
    "extensions": {
     "jupyter_dashboards": {
      "version": 1,
      "views": {
       "grid_default": {},
       "report_default": {}
      }
     }
    }
   },
   "outputs": [],
   "source": [
    "DATA = dict()\n",
    "MSDIR = 'msdir'\n",
    "recipe = stimela.Recipe('Make Pipeline', ms_dir=MSDIR)\n",
    "cab_names = ['simms', 'simulator', 'calibrator', 'wsclean', 'ddfacet', 'cleanmask', 'casa_makemask',\n",
    "             'casa_clean', 'lwimager', 'casa_tclean', #'cubical',\n",
    "             'fitstool', 'pybdsm', 'aegean',]#stimela.CAB\n",
    "def setup():\n",
    "    for cab_name in cab_names:\n",
    "        PARAM_FILE_PATH = pkg_resources.resource_filename('stimela', 'cargo/cab/{}'.format(cab_name))\n",
    "        PARAM_FILE = '{}/parameters.json'.format(PARAM_FILE_PATH)\n",
    "\n",
    "        with open(PARAM_FILE) as par:\n",
    "            DATA[cab_name] = json.load(par)\n",
    "setup()"
   ]
  },
  {
   "cell_type": "code",
   "execution_count": null,
   "metadata": {},
   "outputs": [],
   "source": [
    "recipe_file = widgets.Text(\n",
    "    value='',\n",
    "    placeholder='recipe.json',\n",
    "    description='Recipe File:',\n",
    "    disabled=False\n",
    ")\n",
    "display(recipe_file)"
   ]
  },
  {
   "cell_type": "code",
   "execution_count": null,
   "metadata": {},
   "outputs": [],
   "source": [
    "def run_all(ev):\n",
    "    # Runn all cells\n",
    "    #display(Javascript('IPython.notebook.execute_cells_below()'))\n",
    "    display(Javascript('IPython.notebook.execute_cell_range(IPython.notebook.get_selected_index()+1,'\n",
    "                       'IPython.notebook.get_selected_index()+3)'))\n",
    "\n",
    "button = widgets.Button(description=\"LOAD\")\n",
    "button.on_click(run_all)\n",
    "display(button)"
   ]
  },
  {
   "cell_type": "code",
   "execution_count": null,
   "metadata": {},
   "outputs": [],
   "source": [
    "Im = []\n",
    "recipe.jobs = []\n",
    "data = drastic.get_data(recipe_file.value)\n",
    "cb_cont = widgets.HBox(background_color='red',height='200px',width='100%')\n",
    "data_keys = data.keys()\n",
    "data_keys.sort(key=natural_keys)\n",
    "for dk in data_keys:\n",
    "    Im.append(widgets.Checkbox(description=dk,value=True,width=50))\n",
    "cb_cont.children=[i for i in Im]\n",
    "display(cb_cont)"
   ]
  },
  {
   "cell_type": "code",
   "execution_count": null,
   "metadata": {},
   "outputs": [],
   "source": [
    "def run_all(ev):\n",
    "    # Runn all cells\n",
    "    #display(Javascript('IPython.notebook.execute_cells_below()'))\n",
    "    display(Javascript('IPython.notebook.execute_cell_range(IPython.notebook.get_selected_index()+1,'\n",
    "                       'IPython.notebook.get_selected_index()+2)'))\n",
    "\n",
    "button = widgets.Button(description=\"RUN ALL\")\n",
    "button.on_click(run_all)\n",
    "display(button)"
   ]
  },
  {
   "cell_type": "code",
   "execution_count": null,
   "metadata": {},
   "outputs": [],
   "source": [
    "recipe.jobs = []\n",
    "data = drastic.get_data(recipe_file.value)\n",
    "for cab_value, cab_params in data.items():\n",
    "    cab_num = cab_value.split('_')[0]\n",
    "    cab_func_name = cab_value.split(cab_num + '_')[-1]\n",
    "    cab_func = getattr(drastic, cab_func_name, None)\n",
    "    for c in cb_cont.children:\n",
    "        if c.description == cab_value:\n",
    "            if c.value:\n",
    "                cab_func(recipe, num=cab_num, parameters=cab_params)\n",
    "drastic.run_all(recipe)"
   ]
  }
 ],
 "metadata": {
  "extensions": {
   "jupyter_dashboards": {
    "activeView": "grid_default",
    "version": 1,
    "views": {
     "grid_default": {
      "cellMargin": 10,
      "defaultCellHeight": 20,
      "maxColumns": 12,
      "name": "grid",
      "type": "grid"
     },
     "report_default": {
      "name": "report",
      "type": "report"
     }
    }
   }
  },
  "kernelspec": {
   "display_name": "Python 2",
   "language": "python",
   "name": "python2"
  },
  "language_info": {
   "codemirror_mode": {
    "name": "ipython",
    "version": 2
   },
   "file_extension": ".py",
   "mimetype": "text/x-python",
   "name": "python",
   "nbconvert_exporter": "python",
   "pygments_lexer": "ipython2",
   "version": "2.7.12"
  }
 },
 "nbformat": 4,
 "nbformat_minor": 2
}

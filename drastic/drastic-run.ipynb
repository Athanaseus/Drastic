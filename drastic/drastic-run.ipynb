{
 "cells": [
  {
   "cell_type": "code",
   "execution_count": 1,
   "metadata": {
    "extensions": {
     "jupyter_dashboards": {
      "version": 1,
      "views": {
       "grid_default": {},
       "report_default": {}
      }
     }
    }
   },
   "outputs": [
    {
     "name": "stdout",
     "output_type": "stream",
     "text": [
      "mkdir: cannot create directory ‘msdir’: File exists\n",
      "mkdir: cannot create directory ‘input’: File exists\n",
      "mkdir: cannot create directory ‘output’: File exists\n"
     ]
    }
   ],
   "source": [
    "# Don't change the names\n",
    "!mkdir msdir\n",
    "!mkdir input\n",
    "!mkdir output"
   ]
  },
  {
   "cell_type": "code",
   "execution_count": 2,
   "metadata": {
    "extensions": {
     "jupyter_dashboards": {
      "version": 1,
      "views": {
       "grid_default": {},
       "report_default": {}
      }
     }
    }
   },
   "outputs": [],
   "source": [
    "import json\n",
    "import stimela\n",
    "import drastic\n",
    "import pkg_resources\n",
    "from drastic import natural_keys\n",
    "from ipywidgets import widgets, interact\n",
    "from IPython.display import Javascript"
   ]
  },
  {
   "cell_type": "code",
   "execution_count": 3,
   "metadata": {
    "extensions": {
     "jupyter_dashboards": {
      "version": 1,
      "views": {
       "grid_default": {},
       "report_default": {}
      }
     }
    }
   },
   "outputs": [
    {
     "data": {
      "application/vnd.jupyter.widget-view+json": {
       "model_id": "cecabede2da24204a45f3839d9a0bf0b",
       "version_major": 2,
       "version_minor": 0
      },
      "text/plain": [
       "Button(description=u'Configure', style=ButtonStyle())"
      ]
     },
     "metadata": {},
     "output_type": "display_data"
    },
    {
     "data": {
      "text/html": [
       "<script>\n",
       "code_show=true; \n",
       "function code_toggle() {\n",
       " if (code_show){\n",
       " $('div.input').hide();\n",
       " } else {\n",
       " $('div.input').show();\n",
       " }\n",
       " code_show = !code_show\n",
       "} \n",
       "$( document ).ready(code_toggle);\n",
       "</script>\n",
       "<form action=\"javascript:code_toggle()\"><input type=\"submit\"\n",
       "value=\"Click here to toggle on/off the raw code.\"></form>"
      ],
      "text/plain": [
       "<IPython.core.display.HTML object>"
      ]
     },
     "execution_count": 3,
     "metadata": {},
     "output_type": "execute_result"
    },
    {
     "data": {
      "application/javascript": [
       "IPython.notebook.execute_cell_range(IPython.notebook.get_selected_index()+1,IPython.notebook.get_selected_index()+4)"
      ],
      "text/plain": [
       "<IPython.core.display.Javascript object>"
      ]
     },
     "metadata": {},
     "output_type": "display_data"
    }
   ],
   "source": [
    "def run_all(ev):\n",
    "    # Runn all cells\n",
    "    #display(Javascript('IPython.notebook.execute_cells_below()'))\n",
    "    display(Javascript('IPython.notebook.execute_cell_range(IPython.notebook.get_selected_index()+1,'\n",
    "                       'IPython.notebook.get_selected_index()+4)'))\n",
    "\n",
    "button = widgets.Button(description=\"Configure\")\n",
    "button.on_click(run_all)\n",
    "display(button)\n",
    "\n",
    "from IPython.display import HTML\n",
    "\n",
    "HTML('''<script>\n",
    "code_show=true; \n",
    "function code_toggle() {\n",
    " if (code_show){\n",
    " $('div.input').hide();\n",
    " } else {\n",
    " $('div.input').show();\n",
    " }\n",
    " code_show = !code_show\n",
    "} \n",
    "$( document ).ready(code_toggle);\n",
    "</script>\n",
    "<form action=\"javascript:code_toggle()\"><input type=\"submit\"\n",
    "value=\"Click here to toggle on/off the raw code.\"></form>''')"
   ]
  },
  {
   "cell_type": "code",
   "execution_count": 4,
   "metadata": {
    "extensions": {
     "jupyter_dashboards": {
      "version": 1,
      "views": {
       "grid_default": {},
       "report_default": {}
      }
     }
    }
   },
   "outputs": [
    {
     "name": "stdout",
     "output_type": "stream",
     "text": [
      "2019-05-30 11:35:02,265 - STIMELA - INFO - ---------------------------------\n",
      "2019-05-30 11:35:02,267 - STIMELA - INFO - Stimela version 1.0.1\n",
      "2019-05-30 11:35:02,269 - STIMELA - INFO - Sphesihle Makhathini <sphemakh@gmail.com>\n",
      "2019-05-30 11:35:02,270 - STIMELA - INFO - Running: Make Pipeline\n",
      "2019-05-30 11:35:02,271 - STIMELA - INFO - ---------------------------------\n"
     ]
    }
   ],
   "source": [
    "DATA = dict()\n",
    "MSDIR = 'msdir'\n",
    "recipe = stimela.Recipe('Make Pipeline', ms_dir=MSDIR)\n",
    "cab_names = ['simms', 'simulator', 'calibrator', 'wsclean', 'ddfacet', 'cleanmask', 'casa_makemask',\n",
    "             'casa_clean', 'lwimager', 'casa_tclean', #'cubical',\n",
    "             'fitstool', 'pybdsm', 'aegean',]#stimela.CAB\n",
    "def setup():\n",
    "    for cab_name in cab_names:\n",
    "        PARAM_FILE_PATH = pkg_resources.resource_filename('stimela', 'cargo/cab/{}'.format(cab_name))\n",
    "        PARAM_FILE = '{}/parameters.json'.format(PARAM_FILE_PATH)\n",
    "\n",
    "        with open(PARAM_FILE) as par:\n",
    "            DATA[cab_name] = json.load(par)\n",
    "setup()"
   ]
  },
  {
   "cell_type": "code",
   "execution_count": 5,
   "metadata": {},
   "outputs": [
    {
     "data": {
      "application/vnd.jupyter.widget-view+json": {
       "model_id": "6dde61d7c9e14b6e962deadcf7a81aca",
       "version_major": 2,
       "version_minor": 0
      },
      "text/plain": [
       "Text(value=u'', description=u'Recipe File:', placeholder=u'recipe.json')"
      ]
     },
     "metadata": {},
     "output_type": "display_data"
    }
   ],
   "source": [
    "recipe_file = widgets.Text(\n",
    "    value='',\n",
    "    placeholder='recipe.json',\n",
    "    description='Recipe File:',\n",
    "    disabled=False\n",
    ")\n",
    "display(recipe_file)"
   ]
  },
  {
   "cell_type": "code",
   "execution_count": 6,
   "metadata": {},
   "outputs": [
    {
     "data": {
      "application/vnd.jupyter.widget-view+json": {
       "model_id": "51f2d0222f2649489abdfe08c9b77272",
       "version_major": 2,
       "version_minor": 0
      },
      "text/plain": [
       "Button(description=u'LOAD', style=ButtonStyle())"
      ]
     },
     "metadata": {},
     "output_type": "display_data"
    },
    {
     "data": {
      "application/javascript": [
       "IPython.notebook.execute_cell_range(IPython.notebook.get_selected_index()+1,IPython.notebook.get_selected_index()+3)"
      ],
      "text/plain": [
       "<IPython.core.display.Javascript object>"
      ]
     },
     "metadata": {},
     "output_type": "display_data"
    }
   ],
   "source": [
    "def run_all(ev):\n",
    "    # Runn all cells\n",
    "    #display(Javascript('IPython.notebook.execute_cells_below()'))\n",
    "    display(Javascript('IPython.notebook.execute_cell_range(IPython.notebook.get_selected_index()+1,'\n",
    "                       'IPython.notebook.get_selected_index()+3)'))\n",
    "\n",
    "button = widgets.Button(description=\"LOAD\")\n",
    "button.on_click(run_all)\n",
    "display(button)"
   ]
  },
  {
   "cell_type": "code",
   "execution_count": 7,
   "metadata": {},
   "outputs": [
    {
     "data": {
      "application/vnd.jupyter.widget-view+json": {
       "model_id": "8d59e3c206f84d50b61b34930362f94d",
       "version_major": 2,
       "version_minor": 0
      },
      "text/plain": [
       "SEJveChjaGlsZHJlbj0oQ2hlY2tib3godmFsdWU9VHJ1ZSwgZGVzY3JpcHRpb249dSc4X2x3aW1hZ2VyJyksIENoZWNrYm94KHZhbHVlPVRydWUsIGRlc2NyaXB0aW9uPXUnOV9zaW1tcycpLCDigKY=\n"
      ]
     },
     "metadata": {},
     "output_type": "display_data"
    }
   ],
   "source": [
    "Im = []\n",
    "recipe.jobs = []\n",
    "data = drastic.get_data(recipe_file.value)\n",
    "cb_cont = widgets.HBox(background_color='red',height='200px',width='100%')\n",
    "data_keys = data.keys()\n",
    "data_keys.sort(key=natural_keys)\n",
    "for dk in data_keys:\n",
    "    Im.append(widgets.Checkbox(description=dk,value=True,width=50))\n",
    "cb_cont.children=[i for i in Im]\n",
    "display(cb_cont)"
   ]
  },
  {
   "cell_type": "code",
   "execution_count": 8,
   "metadata": {},
   "outputs": [
    {
     "data": {
      "application/vnd.jupyter.widget-view+json": {
       "model_id": "009d815b165e400d82bc1c54fc2e10e0",
       "version_major": 2,
       "version_minor": 0
      },
      "text/plain": [
       "Button(description=u'RUN ALL', style=ButtonStyle())"
      ]
     },
     "metadata": {},
     "output_type": "display_data"
    }
   ],
   "source": [
    "def run_all(ev):\n",
    "    # Runn all cells\n",
    "    #display(Javascript('IPython.notebook.execute_cells_below()'))\n",
    "    display(Javascript('IPython.notebook.execute_cell_range(IPython.notebook.get_selected_index()+1,'\n",
    "                       'IPython.notebook.get_selected_index()+2)'))\n",
    "\n",
    "button = widgets.Button(description=\"RUN ALL\")\n",
    "button.on_click(run_all)\n",
    "display(button)"
   ]
  },
  {
   "cell_type": "code",
   "execution_count": null,
   "metadata": {},
   "outputs": [],
   "source": [
    "recipe.jobs = []\n",
    "data = drastic.get_data(recipe_file.value)\n",
    "for cab_value, cab_params in data.items():\n",
    "    cab_num = cab_value.split('_')[0]\n",
    "    cab_func_name = cab_value.split(cab_num + '_')[-1]\n",
    "    cab_func = getattr(drastic, cab_func_name, None)\n",
    "    for c in cb_cont.children:\n",
    "        if c.description == cab_value:\n",
    "            if c.value:\n",
    "                cab_func(recipe, num=cab_num, parameters=cab_params)\n",
    "drastic.run_all(recipe)"
   ]
  }
 ],
 "metadata": {
  "extensions": {
   "jupyter_dashboards": {
    "activeView": "grid_default",
    "version": 1,
    "views": {
     "grid_default": {
      "cellMargin": 10,
      "defaultCellHeight": 20,
      "maxColumns": 12,
      "name": "grid",
      "type": "grid"
     },
     "report_default": {
      "name": "report",
      "type": "report"
     }
    }
   }
  },
  "kernelspec": {
   "display_name": "Python 2",
   "language": "python",
   "name": "python2"
  },
  "language_info": {
   "codemirror_mode": {
    "name": "ipython",
    "version": 2
   },
   "file_extension": ".py",
   "mimetype": "text/x-python",
   "name": "python",
   "nbconvert_exporter": "python",
   "pygments_lexer": "ipython2",
   "version": "2.7.12"
  }
 },
 "nbformat": 4,
 "nbformat_minor": 2
}
